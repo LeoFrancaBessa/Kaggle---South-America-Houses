{
 "cells": [
  {
   "cell_type": "code",
   "execution_count": 227,
   "metadata": {},
   "outputs": [],
   "source": [
    "import pandas as pd\n",
    "import numpy as np\n",
    "import matplotlib.pyplot as plt\n",
    "from scipy.stats import skew\n",
    "import seaborn as sns\n",
    "\n",
    "sns.set()\n",
    "pd.set_option('display.max_columns', None)\n",
    "pd.set_option('display.max_rows', None)\n",
    "import warnings\n",
    "warnings.filterwarnings('ignore')\n",
    "\n",
    "from sklearn.experimental import enable_iterative_imputer\n",
    "from sklearn.impute import IterativeImputer\n",
    "from sklearn.model_selection import train_test_split\n",
    "from sklearn.linear_model import LassoCV, ElasticNetCV\n",
    "from sklearn.metrics import r2_score\n",
    "from sklearn.preprocessing import RobustScaler"
   ]
  },
  {
   "cell_type": "code",
   "execution_count": 149,
   "metadata": {},
   "outputs": [],
   "source": [
    "data = pd.read_csv('ec_properties.csv')"
   ]
  },
  {
   "cell_type": "markdown",
   "metadata": {},
   "source": [
    "# <font color='blue'>Data Info</font>"
   ]
  },
  {
   "cell_type": "code",
   "execution_count": 150,
   "metadata": {},
   "outputs": [
    {
     "data": {
      "text/plain": [
       "143565"
      ]
     },
     "execution_count": 150,
     "metadata": {},
     "output_type": "execute_result"
    }
   ],
   "source": [
    "len(data)"
   ]
  },
  {
   "cell_type": "code",
   "execution_count": 151,
   "metadata": {},
   "outputs": [
    {
     "data": {
      "text/html": [
       "<div>\n",
       "<style scoped>\n",
       "    .dataframe tbody tr th:only-of-type {\n",
       "        vertical-align: middle;\n",
       "    }\n",
       "\n",
       "    .dataframe tbody tr th {\n",
       "        vertical-align: top;\n",
       "    }\n",
       "\n",
       "    .dataframe thead th {\n",
       "        text-align: right;\n",
       "    }\n",
       "</style>\n",
       "<table border=\"1\" class=\"dataframe\">\n",
       "  <thead>\n",
       "    <tr style=\"text-align: right;\">\n",
       "      <th></th>\n",
       "      <th>id</th>\n",
       "      <th>ad_type</th>\n",
       "      <th>start_date</th>\n",
       "      <th>end_date</th>\n",
       "      <th>created_on</th>\n",
       "      <th>lat</th>\n",
       "      <th>lon</th>\n",
       "      <th>l1</th>\n",
       "      <th>l2</th>\n",
       "      <th>l3</th>\n",
       "      <th>l4</th>\n",
       "      <th>l5</th>\n",
       "      <th>l6</th>\n",
       "      <th>rooms</th>\n",
       "      <th>bedrooms</th>\n",
       "      <th>bathrooms</th>\n",
       "      <th>surface_total</th>\n",
       "      <th>surface_covered</th>\n",
       "      <th>price</th>\n",
       "      <th>currency</th>\n",
       "      <th>price_period</th>\n",
       "      <th>title</th>\n",
       "      <th>description</th>\n",
       "      <th>property_type</th>\n",
       "      <th>operation_type</th>\n",
       "    </tr>\n",
       "  </thead>\n",
       "  <tbody>\n",
       "    <tr>\n",
       "      <th>0</th>\n",
       "      <td>puTf6SJMm87RSQKD7PfZHQ==</td>\n",
       "      <td>Propiedad</td>\n",
       "      <td>2019-11-16</td>\n",
       "      <td>9999-12-31</td>\n",
       "      <td>2019-11-16</td>\n",
       "      <td>-0.190255</td>\n",
       "      <td>-78.481672</td>\n",
       "      <td>Ecuador</td>\n",
       "      <td>Pichincha</td>\n",
       "      <td>Quito</td>\n",
       "      <td>Centro Norte</td>\n",
       "      <td>Iñaquito</td>\n",
       "      <td>La Carolina</td>\n",
       "      <td>3.0</td>\n",
       "      <td>NaN</td>\n",
       "      <td>NaN</td>\n",
       "      <td>100.0</td>\n",
       "      <td>15.0</td>\n",
       "      <td>280.0</td>\n",
       "      <td>USD</td>\n",
       "      <td>Mensual</td>\n",
       "      <td>Oficina / consultorio alquiler</td>\n",
       "      <td>Oficina de renta. Varios espacios compartidos ...</td>\n",
       "      <td>Oficina</td>\n",
       "      <td>Alquiler</td>\n",
       "    </tr>\n",
       "    <tr>\n",
       "      <th>1</th>\n",
       "      <td>Ikdxz61f/OO1ltcy74G9xQ==</td>\n",
       "      <td>Propiedad</td>\n",
       "      <td>2019-11-16</td>\n",
       "      <td>2020-02-08</td>\n",
       "      <td>2019-11-16</td>\n",
       "      <td>-0.184508</td>\n",
       "      <td>-78.480689</td>\n",
       "      <td>Ecuador</td>\n",
       "      <td>Pichincha</td>\n",
       "      <td>Quito</td>\n",
       "      <td>Centro Norte</td>\n",
       "      <td>Iñaquito</td>\n",
       "      <td>La Carolina</td>\n",
       "      <td>1.0</td>\n",
       "      <td>NaN</td>\n",
       "      <td>NaN</td>\n",
       "      <td>69.0</td>\n",
       "      <td>69.0</td>\n",
       "      <td>485.0</td>\n",
       "      <td>USD</td>\n",
       "      <td>Mensual</td>\n",
       "      <td>Departamentos alquiler</td>\n",
       "      <td>Suite de renta amoblada Av. República del Salv...</td>\n",
       "      <td>Departamento</td>\n",
       "      <td>Alquiler</td>\n",
       "    </tr>\n",
       "    <tr>\n",
       "      <th>2</th>\n",
       "      <td>WPWUMhGq7GG0KVC1O7YFJw==</td>\n",
       "      <td>Propiedad</td>\n",
       "      <td>2019-09-13</td>\n",
       "      <td>2019-10-22</td>\n",
       "      <td>2019-09-13</td>\n",
       "      <td>NaN</td>\n",
       "      <td>NaN</td>\n",
       "      <td>Ecuador</td>\n",
       "      <td>Loja</td>\n",
       "      <td>Loja</td>\n",
       "      <td>NaN</td>\n",
       "      <td>NaN</td>\n",
       "      <td>NaN</td>\n",
       "      <td>NaN</td>\n",
       "      <td>1.0</td>\n",
       "      <td>1.0</td>\n",
       "      <td>50.0</td>\n",
       "      <td>NaN</td>\n",
       "      <td>250.0</td>\n",
       "      <td>USD</td>\n",
       "      <td>NaN</td>\n",
       "      <td>Suite en Alquiler a 2 Cuadras del Coliseo de Loja</td>\n",
       "      <td>Suite de 1 dormitorio, cuarto de baño, cocina,...</td>\n",
       "      <td>Departamento</td>\n",
       "      <td>Alquiler</td>\n",
       "    </tr>\n",
       "    <tr>\n",
       "      <th>3</th>\n",
       "      <td>IbFPsZtv9cnnrlBxZTYGhw==</td>\n",
       "      <td>Propiedad</td>\n",
       "      <td>2019-09-13</td>\n",
       "      <td>2019-10-26</td>\n",
       "      <td>2019-09-13</td>\n",
       "      <td>-4.001000</td>\n",
       "      <td>-79.202003</td>\n",
       "      <td>Ecuador</td>\n",
       "      <td>Loja</td>\n",
       "      <td>Loja</td>\n",
       "      <td>NaN</td>\n",
       "      <td>NaN</td>\n",
       "      <td>NaN</td>\n",
       "      <td>NaN</td>\n",
       "      <td>3.0</td>\n",
       "      <td>3.0</td>\n",
       "      <td>129.0</td>\n",
       "      <td>NaN</td>\n",
       "      <td>87900.0</td>\n",
       "      <td>USD</td>\n",
       "      <td>NaN</td>\n",
       "      <td>Casas en Venta de 4 Dormitorios Plan Vip</td>\n",
       "      <td>RESERVA TU CASA PROPIA CON TAN SOLO 1.000 DÓLA...</td>\n",
       "      <td>Casa</td>\n",
       "      <td>Venta</td>\n",
       "    </tr>\n",
       "    <tr>\n",
       "      <th>4</th>\n",
       "      <td>tGzrmpDop1A8285aHcLKdw==</td>\n",
       "      <td>Propiedad</td>\n",
       "      <td>2019-09-13</td>\n",
       "      <td>2019-10-26</td>\n",
       "      <td>2019-09-13</td>\n",
       "      <td>-3.998084</td>\n",
       "      <td>-79.203262</td>\n",
       "      <td>Ecuador</td>\n",
       "      <td>Loja</td>\n",
       "      <td>Loja</td>\n",
       "      <td>NaN</td>\n",
       "      <td>NaN</td>\n",
       "      <td>NaN</td>\n",
       "      <td>NaN</td>\n",
       "      <td>4.0</td>\n",
       "      <td>3.0</td>\n",
       "      <td>219.0</td>\n",
       "      <td>NaN</td>\n",
       "      <td>NaN</td>\n",
       "      <td>NaN</td>\n",
       "      <td>NaN</td>\n",
       "      <td>en Venta Departamento Duplex Independien</td>\n",
       "      <td>EN VENTA HERMOSO DEPARTAMENTO NUEVO  EN LA CIU...</td>\n",
       "      <td>Departamento</td>\n",
       "      <td>Venta</td>\n",
       "    </tr>\n",
       "  </tbody>\n",
       "</table>\n",
       "</div>"
      ],
      "text/plain": [
       "                         id    ad_type  start_date    end_date  created_on  \\\n",
       "0  puTf6SJMm87RSQKD7PfZHQ==  Propiedad  2019-11-16  9999-12-31  2019-11-16   \n",
       "1  Ikdxz61f/OO1ltcy74G9xQ==  Propiedad  2019-11-16  2020-02-08  2019-11-16   \n",
       "2  WPWUMhGq7GG0KVC1O7YFJw==  Propiedad  2019-09-13  2019-10-22  2019-09-13   \n",
       "3  IbFPsZtv9cnnrlBxZTYGhw==  Propiedad  2019-09-13  2019-10-26  2019-09-13   \n",
       "4  tGzrmpDop1A8285aHcLKdw==  Propiedad  2019-09-13  2019-10-26  2019-09-13   \n",
       "\n",
       "        lat        lon       l1         l2     l3            l4        l5  \\\n",
       "0 -0.190255 -78.481672  Ecuador  Pichincha  Quito  Centro Norte  Iñaquito   \n",
       "1 -0.184508 -78.480689  Ecuador  Pichincha  Quito  Centro Norte  Iñaquito   \n",
       "2       NaN        NaN  Ecuador       Loja   Loja           NaN       NaN   \n",
       "3 -4.001000 -79.202003  Ecuador       Loja   Loja           NaN       NaN   \n",
       "4 -3.998084 -79.203262  Ecuador       Loja   Loja           NaN       NaN   \n",
       "\n",
       "            l6  rooms  bedrooms  bathrooms  surface_total  surface_covered  \\\n",
       "0  La Carolina    3.0       NaN        NaN          100.0             15.0   \n",
       "1  La Carolina    1.0       NaN        NaN           69.0             69.0   \n",
       "2          NaN    NaN       1.0        1.0           50.0              NaN   \n",
       "3          NaN    NaN       3.0        3.0          129.0              NaN   \n",
       "4          NaN    NaN       4.0        3.0          219.0              NaN   \n",
       "\n",
       "     price currency price_period  \\\n",
       "0    280.0      USD      Mensual   \n",
       "1    485.0      USD      Mensual   \n",
       "2    250.0      USD          NaN   \n",
       "3  87900.0      USD          NaN   \n",
       "4      NaN      NaN          NaN   \n",
       "\n",
       "                                               title  \\\n",
       "0                     Oficina / consultorio alquiler   \n",
       "1                             Departamentos alquiler   \n",
       "2  Suite en Alquiler a 2 Cuadras del Coliseo de Loja   \n",
       "3           Casas en Venta de 4 Dormitorios Plan Vip   \n",
       "4           en Venta Departamento Duplex Independien   \n",
       "\n",
       "                                         description property_type  \\\n",
       "0  Oficina de renta. Varios espacios compartidos ...       Oficina   \n",
       "1  Suite de renta amoblada Av. República del Salv...  Departamento   \n",
       "2  Suite de 1 dormitorio, cuarto de baño, cocina,...  Departamento   \n",
       "3  RESERVA TU CASA PROPIA CON TAN SOLO 1.000 DÓLA...          Casa   \n",
       "4  EN VENTA HERMOSO DEPARTAMENTO NUEVO  EN LA CIU...  Departamento   \n",
       "\n",
       "  operation_type  \n",
       "0       Alquiler  \n",
       "1       Alquiler  \n",
       "2       Alquiler  \n",
       "3          Venta  \n",
       "4          Venta  "
      ]
     },
     "execution_count": 151,
     "metadata": {},
     "output_type": "execute_result"
    }
   ],
   "source": [
    "data.head()"
   ]
  },
  {
   "cell_type": "code",
   "execution_count": 152,
   "metadata": {},
   "outputs": [],
   "source": [
    "del data['id']"
   ]
  },
  {
   "cell_type": "code",
   "execution_count": 153,
   "metadata": {},
   "outputs": [
    {
     "data": {
      "text/html": [
       "<div>\n",
       "<style scoped>\n",
       "    .dataframe tbody tr th:only-of-type {\n",
       "        vertical-align: middle;\n",
       "    }\n",
       "\n",
       "    .dataframe tbody tr th {\n",
       "        vertical-align: top;\n",
       "    }\n",
       "\n",
       "    .dataframe thead th {\n",
       "        text-align: right;\n",
       "    }\n",
       "</style>\n",
       "<table border=\"1\" class=\"dataframe\">\n",
       "  <thead>\n",
       "    <tr style=\"text-align: right;\">\n",
       "      <th></th>\n",
       "      <th>lat</th>\n",
       "      <th>lon</th>\n",
       "      <th>rooms</th>\n",
       "      <th>bedrooms</th>\n",
       "      <th>bathrooms</th>\n",
       "      <th>surface_total</th>\n",
       "      <th>surface_covered</th>\n",
       "      <th>price</th>\n",
       "    </tr>\n",
       "  </thead>\n",
       "  <tbody>\n",
       "    <tr>\n",
       "      <th>count</th>\n",
       "      <td>129841.000000</td>\n",
       "      <td>129844.000000</td>\n",
       "      <td>745.000000</td>\n",
       "      <td>59032.000000</td>\n",
       "      <td>110422.000000</td>\n",
       "      <td>61509.000000</td>\n",
       "      <td>301.000000</td>\n",
       "      <td>1.419570e+05</td>\n",
       "    </tr>\n",
       "    <tr>\n",
       "      <th>mean</th>\n",
       "      <td>-1.359054</td>\n",
       "      <td>-79.187902</td>\n",
       "      <td>2.530201</td>\n",
       "      <td>3.061543</td>\n",
       "      <td>2.738874</td>\n",
       "      <td>375.818774</td>\n",
       "      <td>721.491694</td>\n",
       "      <td>1.644712e+05</td>\n",
       "    </tr>\n",
       "    <tr>\n",
       "      <th>std</th>\n",
       "      <td>1.174434</td>\n",
       "      <td>0.770510</td>\n",
       "      <td>1.959115</td>\n",
       "      <td>1.598856</td>\n",
       "      <td>1.648346</td>\n",
       "      <td>3358.946316</td>\n",
       "      <td>5645.130439</td>\n",
       "      <td>6.377488e+05</td>\n",
       "    </tr>\n",
       "    <tr>\n",
       "      <th>min</th>\n",
       "      <td>-4.493792</td>\n",
       "      <td>-91.188004</td>\n",
       "      <td>1.000000</td>\n",
       "      <td>0.000000</td>\n",
       "      <td>1.000000</td>\n",
       "      <td>10.000000</td>\n",
       "      <td>10.000000</td>\n",
       "      <td>0.000000e+00</td>\n",
       "    </tr>\n",
       "    <tr>\n",
       "      <th>25%</th>\n",
       "      <td>-2.187000</td>\n",
       "      <td>-79.897983</td>\n",
       "      <td>1.000000</td>\n",
       "      <td>2.000000</td>\n",
       "      <td>2.000000</td>\n",
       "      <td>94.000000</td>\n",
       "      <td>75.000000</td>\n",
       "      <td>9.000000e+02</td>\n",
       "    </tr>\n",
       "    <tr>\n",
       "      <th>50%</th>\n",
       "      <td>-1.065410</td>\n",
       "      <td>-79.005997</td>\n",
       "      <td>2.000000</td>\n",
       "      <td>3.000000</td>\n",
       "      <td>2.000000</td>\n",
       "      <td>135.000000</td>\n",
       "      <td>116.000000</td>\n",
       "      <td>6.800000e+04</td>\n",
       "    </tr>\n",
       "    <tr>\n",
       "      <th>75%</th>\n",
       "      <td>-0.189000</td>\n",
       "      <td>-78.484001</td>\n",
       "      <td>3.000000</td>\n",
       "      <td>3.000000</td>\n",
       "      <td>3.000000</td>\n",
       "      <td>225.000000</td>\n",
       "      <td>200.000000</td>\n",
       "      <td>1.490000e+05</td>\n",
       "    </tr>\n",
       "    <tr>\n",
       "      <th>max</th>\n",
       "      <td>1.297000</td>\n",
       "      <td>-76.586998</td>\n",
       "      <td>20.000000</td>\n",
       "      <td>41.000000</td>\n",
       "      <td>20.000000</td>\n",
       "      <td>200000.000000</td>\n",
       "      <td>89198.000000</td>\n",
       "      <td>4.000000e+07</td>\n",
       "    </tr>\n",
       "  </tbody>\n",
       "</table>\n",
       "</div>"
      ],
      "text/plain": [
       "                 lat            lon       rooms      bedrooms      bathrooms  \\\n",
       "count  129841.000000  129844.000000  745.000000  59032.000000  110422.000000   \n",
       "mean       -1.359054     -79.187902    2.530201      3.061543       2.738874   \n",
       "std         1.174434       0.770510    1.959115      1.598856       1.648346   \n",
       "min        -4.493792     -91.188004    1.000000      0.000000       1.000000   \n",
       "25%        -2.187000     -79.897983    1.000000      2.000000       2.000000   \n",
       "50%        -1.065410     -79.005997    2.000000      3.000000       2.000000   \n",
       "75%        -0.189000     -78.484001    3.000000      3.000000       3.000000   \n",
       "max         1.297000     -76.586998   20.000000     41.000000      20.000000   \n",
       "\n",
       "       surface_total  surface_covered         price  \n",
       "count   61509.000000       301.000000  1.419570e+05  \n",
       "mean      375.818774       721.491694  1.644712e+05  \n",
       "std      3358.946316      5645.130439  6.377488e+05  \n",
       "min        10.000000        10.000000  0.000000e+00  \n",
       "25%        94.000000        75.000000  9.000000e+02  \n",
       "50%       135.000000       116.000000  6.800000e+04  \n",
       "75%       225.000000       200.000000  1.490000e+05  \n",
       "max    200000.000000     89198.000000  4.000000e+07  "
      ]
     },
     "execution_count": 153,
     "metadata": {},
     "output_type": "execute_result"
    }
   ],
   "source": [
    "data.describe()"
   ]
  },
  {
   "cell_type": "code",
   "execution_count": 154,
   "metadata": {
    "scrolled": false
   },
   "outputs": [
    {
     "data": {
      "text/plain": [
       "surface_covered    143264\n",
       "rooms              142820\n",
       "price_period       142722\n",
       "l6                 138298\n",
       "l5                  94497\n",
       "bedrooms            84533\n",
       "surface_total       82056\n",
       "l4                  55252\n",
       "bathrooms           33143\n",
       "lat                 13724\n",
       "lon                 13721\n",
       "l3                   6821\n",
       "currency             1736\n",
       "price                1608\n",
       "description             1\n",
       "end_date                0\n",
       "start_date              0\n",
       "created_on              0\n",
       "operation_type          0\n",
       "l1                      0\n",
       "l2                      0\n",
       "property_type           0\n",
       "title                   0\n",
       "ad_type                 0\n",
       "dtype: int64"
      ]
     },
     "execution_count": 154,
     "metadata": {},
     "output_type": "execute_result"
    }
   ],
   "source": [
    "data.isna().sum().sort_values(ascending=False)"
   ]
  },
  {
   "cell_type": "markdown",
   "metadata": {},
   "source": [
    "# <font color='blue'>Missing Values</font>"
   ]
  },
  {
   "cell_type": "markdown",
   "metadata": {},
   "source": [
    "### Currency"
   ]
  },
  {
   "cell_type": "code",
   "execution_count": 155,
   "metadata": {},
   "outputs": [],
   "source": [
    "del data['currency']"
   ]
  },
  {
   "cell_type": "markdown",
   "metadata": {},
   "source": [
    "### Drop Feats With To Many Missing Values"
   ]
  },
  {
   "cell_type": "code",
   "execution_count": 156,
   "metadata": {},
   "outputs": [],
   "source": [
    "miss = ['surface_covered', 'rooms', 'price_period']\n",
    "for i in miss:\n",
    "    del data[i]"
   ]
  },
  {
   "cell_type": "markdown",
   "metadata": {},
   "source": [
    "### Locations Features"
   ]
  },
  {
   "cell_type": "code",
   "execution_count": 157,
   "metadata": {},
   "outputs": [],
   "source": [
    "loc = ['l6', 'l5', 'l4', 'l3']\n",
    "for i in loc:\n",
    "    data[i] = data[i].apply(lambda x: 'None' if pd.isna(x) else x)"
   ]
  },
  {
   "cell_type": "markdown",
   "metadata": {},
   "source": [
    "### Bedrooms"
   ]
  },
  {
   "cell_type": "code",
   "execution_count": 158,
   "metadata": {},
   "outputs": [
    {
     "data": {
      "text/plain": [
       "bedrooms         1.000000\n",
       "bathrooms        0.747001\n",
       "price            0.322020\n",
       "surface_total    0.102476\n",
       "lon             -0.019653\n",
       "lat             -0.088592\n",
       "Name: bedrooms, dtype: float64"
      ]
     },
     "execution_count": 158,
     "metadata": {},
     "output_type": "execute_result"
    }
   ],
   "source": [
    "corr = data.corr()\n",
    "corr['bedrooms'].sort_values(ascending=False)"
   ]
  },
  {
   "cell_type": "code",
   "execution_count": 159,
   "metadata": {},
   "outputs": [],
   "source": [
    "data_bed = data[['bedrooms', 'bathrooms', 'price', 'surface_total']]"
   ]
  },
  {
   "cell_type": "code",
   "execution_count": 160,
   "metadata": {
    "scrolled": true
   },
   "outputs": [
    {
     "data": {
      "text/plain": [
       "IterativeImputer(add_indicator=False, estimator=None,\n",
       "                 imputation_order='ascending', initial_strategy='mean',\n",
       "                 max_iter=10, max_value=None, min_value=None,\n",
       "                 missing_values=nan, n_nearest_features=None, random_state=0,\n",
       "                 sample_posterior=False, skip_complete=False, tol=0.001,\n",
       "                 verbose=0)"
      ]
     },
     "execution_count": 160,
     "metadata": {},
     "output_type": "execute_result"
    }
   ],
   "source": [
    "imp = IterativeImputer(max_iter=50, random_state=0)\n",
    "imp.fit(data_bed.values)\n",
    "IterativeImputer(random_state=0)"
   ]
  },
  {
   "cell_type": "code",
   "execution_count": 161,
   "metadata": {},
   "outputs": [],
   "source": [
    "data['bedrooms'] = np.round(imp.transform(np.round(data_bed.values))[:, 0])"
   ]
  },
  {
   "cell_type": "markdown",
   "metadata": {},
   "source": [
    "### Price"
   ]
  },
  {
   "cell_type": "code",
   "execution_count": 162,
   "metadata": {},
   "outputs": [
    {
     "data": {
      "text/plain": [
       "price            1.000000\n",
       "bedrooms         0.619393\n",
       "bathrooms        0.330760\n",
       "surface_total    0.137346\n",
       "Name: price, dtype: float64"
      ]
     },
     "execution_count": 162,
     "metadata": {},
     "output_type": "execute_result"
    }
   ],
   "source": [
    "corr = data.corr()\n",
    "corr['price'].sort_values(ascending=False).iloc[0:4]"
   ]
  },
  {
   "cell_type": "code",
   "execution_count": 163,
   "metadata": {},
   "outputs": [],
   "source": [
    "data_price = data[corr['price'].sort_values(ascending=False).iloc[0:4].index]"
   ]
  },
  {
   "cell_type": "code",
   "execution_count": 164,
   "metadata": {},
   "outputs": [
    {
     "data": {
      "text/plain": [
       "IterativeImputer(add_indicator=False, estimator=None,\n",
       "                 imputation_order='ascending', initial_strategy='mean',\n",
       "                 max_iter=10, max_value=None, min_value=None,\n",
       "                 missing_values=nan, n_nearest_features=None, random_state=0,\n",
       "                 sample_posterior=False, skip_complete=False, tol=0.001,\n",
       "                 verbose=0)"
      ]
     },
     "execution_count": 164,
     "metadata": {},
     "output_type": "execute_result"
    }
   ],
   "source": [
    "imp.fit(data_price.values)\n",
    "IterativeImputer(random_state=0)"
   ]
  },
  {
   "cell_type": "code",
   "execution_count": 165,
   "metadata": {},
   "outputs": [],
   "source": [
    "data['price'] = abs(imp.transform((data_price.values))[:, 0])"
   ]
  },
  {
   "cell_type": "markdown",
   "metadata": {},
   "source": [
    "### Bathrooms"
   ]
  },
  {
   "cell_type": "code",
   "execution_count": 166,
   "metadata": {},
   "outputs": [
    {
     "data": {
      "text/plain": [
       "bathrooms        1.000000\n",
       "bedrooms         0.851335\n",
       "price            0.336460\n",
       "surface_total    0.125560\n",
       "Name: bathrooms, dtype: float64"
      ]
     },
     "execution_count": 166,
     "metadata": {},
     "output_type": "execute_result"
    }
   ],
   "source": [
    "corr = data.corr()\n",
    "corr['bathrooms'].sort_values(ascending=False).iloc[0:4]"
   ]
  },
  {
   "cell_type": "code",
   "execution_count": 167,
   "metadata": {},
   "outputs": [],
   "source": [
    "data_bath = data[corr['bathrooms'].sort_values(ascending=False).iloc[0:4].index]"
   ]
  },
  {
   "cell_type": "code",
   "execution_count": 168,
   "metadata": {},
   "outputs": [
    {
     "data": {
      "text/plain": [
       "IterativeImputer(add_indicator=False, estimator=None,\n",
       "                 imputation_order='ascending', initial_strategy='mean',\n",
       "                 max_iter=10, max_value=None, min_value=None,\n",
       "                 missing_values=nan, n_nearest_features=None, random_state=0,\n",
       "                 sample_posterior=False, skip_complete=False, tol=0.001,\n",
       "                 verbose=0)"
      ]
     },
     "execution_count": 168,
     "metadata": {},
     "output_type": "execute_result"
    }
   ],
   "source": [
    "imp.fit(data_bath.values)\n",
    "IterativeImputer(random_state=0)"
   ]
  },
  {
   "cell_type": "code",
   "execution_count": 169,
   "metadata": {},
   "outputs": [],
   "source": [
    "data['bathrooms'] = np.round(imp.transform((data_bath.values))[:, 0])"
   ]
  },
  {
   "cell_type": "markdown",
   "metadata": {},
   "source": [
    "### Surface Total"
   ]
  },
  {
   "cell_type": "code",
   "execution_count": 170,
   "metadata": {},
   "outputs": [
    {
     "data": {
      "text/plain": [
       "surface_total    1.000000\n",
       "bathrooms        0.587879\n",
       "bedrooms         0.495934\n",
       "price            0.180015\n",
       "Name: surface_total, dtype: float64"
      ]
     },
     "execution_count": 170,
     "metadata": {},
     "output_type": "execute_result"
    }
   ],
   "source": [
    "corr = data.corr()\n",
    "corr['surface_total'].sort_values(ascending=False).iloc[0:4]"
   ]
  },
  {
   "cell_type": "code",
   "execution_count": 171,
   "metadata": {},
   "outputs": [],
   "source": [
    "data_surf = data[corr['surface_total'].sort_values(ascending=False).iloc[0:4].index]"
   ]
  },
  {
   "cell_type": "code",
   "execution_count": 172,
   "metadata": {},
   "outputs": [
    {
     "data": {
      "text/plain": [
       "IterativeImputer(add_indicator=False, estimator=None,\n",
       "                 imputation_order='ascending', initial_strategy='mean',\n",
       "                 max_iter=10, max_value=None, min_value=None,\n",
       "                 missing_values=nan, n_nearest_features=None, random_state=0,\n",
       "                 sample_posterior=False, skip_complete=False, tol=0.001,\n",
       "                 verbose=0)"
      ]
     },
     "execution_count": 172,
     "metadata": {},
     "output_type": "execute_result"
    }
   ],
   "source": [
    "imp.fit(data_surf.values)\n",
    "IterativeImputer(random_state=0)"
   ]
  },
  {
   "cell_type": "code",
   "execution_count": 173,
   "metadata": {},
   "outputs": [],
   "source": [
    "data['surface_total'] = abs(np.round(imp.transform((data_surf.values))[:, 0]))"
   ]
  },
  {
   "cell_type": "markdown",
   "metadata": {},
   "source": [
    "### Lat and Long"
   ]
  },
  {
   "cell_type": "code",
   "execution_count": 174,
   "metadata": {},
   "outputs": [],
   "source": [
    "lat_long = data[['lat', 'lon']]"
   ]
  },
  {
   "cell_type": "code",
   "execution_count": 175,
   "metadata": {},
   "outputs": [],
   "source": [
    "for var in lat_long:\n",
    "    corr = data.corr()\n",
    "    data_surf = data[corr[var].sort_values(ascending=False).iloc[0:3].index]\n",
    "    imp.fit(data_surf.values)\n",
    "    IterativeImputer(random_state=0)\n",
    "    data[var] = imp.transform((data_surf.values))[:, 0]"
   ]
  },
  {
   "cell_type": "markdown",
   "metadata": {},
   "source": [
    "### Fill Remainign NA"
   ]
  },
  {
   "cell_type": "code",
   "execution_count": 176,
   "metadata": {},
   "outputs": [],
   "source": [
    "data = data.dropna()"
   ]
  },
  {
   "cell_type": "markdown",
   "metadata": {},
   "source": [
    "# <font color='blue'>Data After Cleaning</font>"
   ]
  },
  {
   "cell_type": "code",
   "execution_count": 177,
   "metadata": {
    "scrolled": false
   },
   "outputs": [
    {
     "data": {
      "text/html": [
       "<div>\n",
       "<style scoped>\n",
       "    .dataframe tbody tr th:only-of-type {\n",
       "        vertical-align: middle;\n",
       "    }\n",
       "\n",
       "    .dataframe tbody tr th {\n",
       "        vertical-align: top;\n",
       "    }\n",
       "\n",
       "    .dataframe thead th {\n",
       "        text-align: right;\n",
       "    }\n",
       "</style>\n",
       "<table border=\"1\" class=\"dataframe\">\n",
       "  <thead>\n",
       "    <tr style=\"text-align: right;\">\n",
       "      <th></th>\n",
       "      <th>ad_type</th>\n",
       "      <th>start_date</th>\n",
       "      <th>end_date</th>\n",
       "      <th>created_on</th>\n",
       "      <th>lat</th>\n",
       "      <th>lon</th>\n",
       "      <th>l1</th>\n",
       "      <th>l2</th>\n",
       "      <th>l3</th>\n",
       "      <th>l4</th>\n",
       "      <th>l5</th>\n",
       "      <th>l6</th>\n",
       "      <th>bedrooms</th>\n",
       "      <th>bathrooms</th>\n",
       "      <th>surface_total</th>\n",
       "      <th>price</th>\n",
       "      <th>title</th>\n",
       "      <th>description</th>\n",
       "      <th>property_type</th>\n",
       "      <th>operation_type</th>\n",
       "    </tr>\n",
       "  </thead>\n",
       "  <tbody>\n",
       "    <tr>\n",
       "      <th>0</th>\n",
       "      <td>Propiedad</td>\n",
       "      <td>2019-11-16</td>\n",
       "      <td>9999-12-31</td>\n",
       "      <td>2019-11-16</td>\n",
       "      <td>-0.190255</td>\n",
       "      <td>-78.481672</td>\n",
       "      <td>Ecuador</td>\n",
       "      <td>Pichincha</td>\n",
       "      <td>Quito</td>\n",
       "      <td>Centro Norte</td>\n",
       "      <td>Iñaquito</td>\n",
       "      <td>La Carolina</td>\n",
       "      <td>3.0</td>\n",
       "      <td>3.0</td>\n",
       "      <td>100.0</td>\n",
       "      <td>280.000000</td>\n",
       "      <td>Oficina / consultorio alquiler</td>\n",
       "      <td>Oficina de renta. Varios espacios compartidos ...</td>\n",
       "      <td>Oficina</td>\n",
       "      <td>Alquiler</td>\n",
       "    </tr>\n",
       "    <tr>\n",
       "      <th>1</th>\n",
       "      <td>Propiedad</td>\n",
       "      <td>2019-11-16</td>\n",
       "      <td>2020-02-08</td>\n",
       "      <td>2019-11-16</td>\n",
       "      <td>-0.184508</td>\n",
       "      <td>-78.480689</td>\n",
       "      <td>Ecuador</td>\n",
       "      <td>Pichincha</td>\n",
       "      <td>Quito</td>\n",
       "      <td>Centro Norte</td>\n",
       "      <td>Iñaquito</td>\n",
       "      <td>La Carolina</td>\n",
       "      <td>3.0</td>\n",
       "      <td>3.0</td>\n",
       "      <td>69.0</td>\n",
       "      <td>485.000000</td>\n",
       "      <td>Departamentos alquiler</td>\n",
       "      <td>Suite de renta amoblada Av. República del Salv...</td>\n",
       "      <td>Departamento</td>\n",
       "      <td>Alquiler</td>\n",
       "    </tr>\n",
       "    <tr>\n",
       "      <th>2</th>\n",
       "      <td>Propiedad</td>\n",
       "      <td>2019-09-13</td>\n",
       "      <td>2019-10-22</td>\n",
       "      <td>2019-09-13</td>\n",
       "      <td>-1.360628</td>\n",
       "      <td>-79.186144</td>\n",
       "      <td>Ecuador</td>\n",
       "      <td>Loja</td>\n",
       "      <td>Loja</td>\n",
       "      <td>None</td>\n",
       "      <td>None</td>\n",
       "      <td>None</td>\n",
       "      <td>1.0</td>\n",
       "      <td>1.0</td>\n",
       "      <td>50.0</td>\n",
       "      <td>250.000000</td>\n",
       "      <td>Suite en Alquiler a 2 Cuadras del Coliseo de Loja</td>\n",
       "      <td>Suite de 1 dormitorio, cuarto de baño, cocina,...</td>\n",
       "      <td>Departamento</td>\n",
       "      <td>Alquiler</td>\n",
       "    </tr>\n",
       "    <tr>\n",
       "      <th>3</th>\n",
       "      <td>Propiedad</td>\n",
       "      <td>2019-09-13</td>\n",
       "      <td>2019-10-26</td>\n",
       "      <td>2019-09-13</td>\n",
       "      <td>-4.001000</td>\n",
       "      <td>-79.202003</td>\n",
       "      <td>Ecuador</td>\n",
       "      <td>Loja</td>\n",
       "      <td>Loja</td>\n",
       "      <td>None</td>\n",
       "      <td>None</td>\n",
       "      <td>None</td>\n",
       "      <td>3.0</td>\n",
       "      <td>3.0</td>\n",
       "      <td>129.0</td>\n",
       "      <td>87900.000000</td>\n",
       "      <td>Casas en Venta de 4 Dormitorios Plan Vip</td>\n",
       "      <td>RESERVA TU CASA PROPIA CON TAN SOLO 1.000 DÓLA...</td>\n",
       "      <td>Casa</td>\n",
       "      <td>Venta</td>\n",
       "    </tr>\n",
       "    <tr>\n",
       "      <th>4</th>\n",
       "      <td>Propiedad</td>\n",
       "      <td>2019-09-13</td>\n",
       "      <td>2019-10-26</td>\n",
       "      <td>2019-09-13</td>\n",
       "      <td>-3.998084</td>\n",
       "      <td>-79.203262</td>\n",
       "      <td>Ecuador</td>\n",
       "      <td>Loja</td>\n",
       "      <td>Loja</td>\n",
       "      <td>None</td>\n",
       "      <td>None</td>\n",
       "      <td>None</td>\n",
       "      <td>4.0</td>\n",
       "      <td>3.0</td>\n",
       "      <td>219.0</td>\n",
       "      <td>347050.262216</td>\n",
       "      <td>en Venta Departamento Duplex Independien</td>\n",
       "      <td>EN VENTA HERMOSO DEPARTAMENTO NUEVO  EN LA CIU...</td>\n",
       "      <td>Departamento</td>\n",
       "      <td>Venta</td>\n",
       "    </tr>\n",
       "  </tbody>\n",
       "</table>\n",
       "</div>"
      ],
      "text/plain": [
       "     ad_type  start_date    end_date  created_on       lat        lon  \\\n",
       "0  Propiedad  2019-11-16  9999-12-31  2019-11-16 -0.190255 -78.481672   \n",
       "1  Propiedad  2019-11-16  2020-02-08  2019-11-16 -0.184508 -78.480689   \n",
       "2  Propiedad  2019-09-13  2019-10-22  2019-09-13 -1.360628 -79.186144   \n",
       "3  Propiedad  2019-09-13  2019-10-26  2019-09-13 -4.001000 -79.202003   \n",
       "4  Propiedad  2019-09-13  2019-10-26  2019-09-13 -3.998084 -79.203262   \n",
       "\n",
       "        l1         l2     l3            l4        l5           l6  bedrooms  \\\n",
       "0  Ecuador  Pichincha  Quito  Centro Norte  Iñaquito  La Carolina       3.0   \n",
       "1  Ecuador  Pichincha  Quito  Centro Norte  Iñaquito  La Carolina       3.0   \n",
       "2  Ecuador       Loja   Loja          None      None         None       1.0   \n",
       "3  Ecuador       Loja   Loja          None      None         None       3.0   \n",
       "4  Ecuador       Loja   Loja          None      None         None       4.0   \n",
       "\n",
       "   bathrooms  surface_total          price  \\\n",
       "0        3.0          100.0     280.000000   \n",
       "1        3.0           69.0     485.000000   \n",
       "2        1.0           50.0     250.000000   \n",
       "3        3.0          129.0   87900.000000   \n",
       "4        3.0          219.0  347050.262216   \n",
       "\n",
       "                                               title  \\\n",
       "0                     Oficina / consultorio alquiler   \n",
       "1                             Departamentos alquiler   \n",
       "2  Suite en Alquiler a 2 Cuadras del Coliseo de Loja   \n",
       "3           Casas en Venta de 4 Dormitorios Plan Vip   \n",
       "4           en Venta Departamento Duplex Independien   \n",
       "\n",
       "                                         description property_type  \\\n",
       "0  Oficina de renta. Varios espacios compartidos ...       Oficina   \n",
       "1  Suite de renta amoblada Av. República del Salv...  Departamento   \n",
       "2  Suite de 1 dormitorio, cuarto de baño, cocina,...  Departamento   \n",
       "3  RESERVA TU CASA PROPIA CON TAN SOLO 1.000 DÓLA...          Casa   \n",
       "4  EN VENTA HERMOSO DEPARTAMENTO NUEVO  EN LA CIU...  Departamento   \n",
       "\n",
       "  operation_type  \n",
       "0       Alquiler  \n",
       "1       Alquiler  \n",
       "2       Alquiler  \n",
       "3          Venta  \n",
       "4          Venta  "
      ]
     },
     "execution_count": 177,
     "metadata": {},
     "output_type": "execute_result"
    }
   ],
   "source": [
    "data.head(5)"
   ]
  },
  {
   "cell_type": "markdown",
   "metadata": {},
   "source": [
    "# <font color='blue'>Feature Selection</font>"
   ]
  },
  {
   "cell_type": "markdown",
   "metadata": {},
   "source": [
    "### Ad_Type"
   ]
  },
  {
   "cell_type": "code",
   "execution_count": 178,
   "metadata": {},
   "outputs": [
    {
     "data": {
      "text/plain": [
       "Propiedad    143564\n",
       "Name: ad_type, dtype: int64"
      ]
     },
     "execution_count": 178,
     "metadata": {},
     "output_type": "execute_result"
    }
   ],
   "source": [
    "data['ad_type'].value_counts()"
   ]
  },
  {
   "cell_type": "code",
   "execution_count": 179,
   "metadata": {},
   "outputs": [],
   "source": [
    "del data['ad_type']"
   ]
  },
  {
   "cell_type": "markdown",
   "metadata": {},
   "source": [
    "### L1"
   ]
  },
  {
   "cell_type": "code",
   "execution_count": 180,
   "metadata": {},
   "outputs": [
    {
     "data": {
      "text/plain": [
       "Ecuador                      143563\n",
       "Estados Unidos de América         1\n",
       "Name: l1, dtype: int64"
      ]
     },
     "execution_count": 180,
     "metadata": {},
     "output_type": "execute_result"
    }
   ],
   "source": [
    "data['l1'].value_counts()"
   ]
  },
  {
   "cell_type": "code",
   "execution_count": 181,
   "metadata": {},
   "outputs": [],
   "source": [
    "del data['l1']"
   ]
  },
  {
   "cell_type": "markdown",
   "metadata": {},
   "source": [
    "### L5 and L6"
   ]
  },
  {
   "cell_type": "code",
   "execution_count": 182,
   "metadata": {},
   "outputs": [
    {
     "data": {
      "text/plain": [
       "None                        94496\n",
       "Iñaquito                    13784\n",
       "Mariscal Sucre               2651\n",
       "Jipijapa                     2616\n",
       "Rumipamba                    2489\n",
       "Cumbaya                      2316\n",
       "Conocoto                     1866\n",
       "Calderón                     1817\n",
       "Tumbaco                      1649\n",
       "Kennedy                      1433\n",
       "San Juan                     1427\n",
       "Belisario Quevedo            1424\n",
       "Ponceano                     1371\n",
       "Centro De Quito              1114\n",
       "El Condado                   1095\n",
       "San Isidro del Inca          1033\n",
       "Concepción                    921\n",
       "Carcelen                      882\n",
       "Cochapamba                    760\n",
       "Nayon - Tanda                 719\n",
       "San Antonio de Pichincha      681\n",
       "Pomasqui                      616\n",
       "Puengasí                      562\n",
       "Cotocollao                    431\n",
       "Alangasí                      414\n",
       "Quito Tenis                   394\n",
       "Itchimbía                     385\n",
       "Puembo                        384\n",
       "Quitumbe                      333\n",
       "La Magdalena                  258\n",
       "Comité del Pueblo             256\n",
       "Pifo                          241\n",
       "Guayllabamba                  216\n",
       "Solanda                       207\n",
       "Turubamba                     200\n",
       "Amaguaña                      184\n",
       "Guamaní                       147\n",
       "La Ferroviaria                143\n",
       "La Merced                     134\n",
       "Chillogallo                   130\n",
       "San Bartolo                   124\n",
       "La Ecuatoriana                120\n",
       "La Argelia                    108\n",
       "Chimbacalle                   103\n",
       "Calacalí                       99\n",
       "Yaruqui                        95\n",
       "La Mena                        92\n",
       "Llano Chico                    84\n",
       "Tababela                       70\n",
       "Chilibulo                      69\n",
       "La Libertad                    66\n",
       "El Quinche                     53\n",
       "Píntag                         50\n",
       "Checa                          49\n",
       "Puéllaro                       39\n",
       "Guangopolo                     28\n",
       "Nanegalito                     22\n",
       "Zámbiza                        20\n",
       "Nono                           20\n",
       "Nanegal                        19\n",
       "Lloa                            7\n",
       "Vía a Daule                     6\n",
       "Sangolqui                       6\n",
       "Pacto                           4\n",
       "Ciudad Celeste                  4\n",
       "Vía La Aurora                   4\n",
       "San José de Minas               3\n",
       "Urdesa central                  2\n",
       "Ceibos                          2\n",
       "Isla Mocolí                     2\n",
       "Mitad Del Mundo                 2\n",
       "Samanes                         2\n",
       "Chavezpamba                     2\n",
       "Kennedy Norte                   1\n",
       "Amagasi Del Inca                1\n",
       "Atahualpa                       1\n",
       "Alborada                        1\n",
       "Miraflores                      1\n",
       "San Rafael                      1\n",
       "Perucho                         1\n",
       "Garzota                         1\n",
       "Las Cumbres                     1\n",
       "Name: l5, dtype: int64"
      ]
     },
     "execution_count": 182,
     "metadata": {},
     "output_type": "execute_result"
    }
   ],
   "source": [
    "data['l5'].value_counts()"
   ]
  },
  {
   "cell_type": "code",
   "execution_count": 183,
   "metadata": {},
   "outputs": [
    {
     "data": {
      "text/plain": [
       "None                     138297\n",
       "Bellavista                  852\n",
       "Gonzalez Suarez             779\n",
       "La Carolina                 774\n",
       "Granda Centeno              500\n",
       "Monteserrin                 445\n",
       "El Batan                    353\n",
       "El Inca                     323\n",
       "El Pinar                    269\n",
       "Miravalle                   206\n",
       "Carapungo                   155\n",
       "Las Casas                   131\n",
       "La Armenia                  104\n",
       "San Carlos                   79\n",
       "Iñaquito Alto                74\n",
       "La Armenia I                 71\n",
       "La Concepcion                64\n",
       "La Luz                       59\n",
       "El Recreo                    23\n",
       "El Bosque                     3\n",
       "La Floresta                   2\n",
       "Colinas del Pichincha         1\n",
       "Name: l6, dtype: int64"
      ]
     },
     "execution_count": 183,
     "metadata": {},
     "output_type": "execute_result"
    }
   ],
   "source": [
    "data['l6'].value_counts()"
   ]
  },
  {
   "cell_type": "code",
   "execution_count": 184,
   "metadata": {},
   "outputs": [],
   "source": [
    "del data['l5']\n",
    "del data['l6']"
   ]
  },
  {
   "cell_type": "markdown",
   "metadata": {},
   "source": [
    "### Operation Type"
   ]
  },
  {
   "cell_type": "code",
   "execution_count": 185,
   "metadata": {},
   "outputs": [
    {
     "data": {
      "text/plain": [
       "Venta                96007\n",
       "Alquiler             47553\n",
       "Alquiler temporal        4\n",
       "Name: operation_type, dtype: int64"
      ]
     },
     "execution_count": 185,
     "metadata": {},
     "output_type": "execute_result"
    }
   ],
   "source": [
    "data['operation_type'].value_counts()"
   ]
  },
  {
   "cell_type": "code",
   "execution_count": 186,
   "metadata": {},
   "outputs": [],
   "source": [
    "data['operation_type'] = data['operation_type'].apply(lambda x: 'Alquiler' if (x=='Alquiler temporal') else x)"
   ]
  },
  {
   "cell_type": "markdown",
   "metadata": {},
   "source": [
    "# <font color='blue'>Dealing With Text Features</font>"
   ]
  },
  {
   "cell_type": "code",
   "execution_count": 187,
   "metadata": {},
   "outputs": [
    {
     "data": {
      "text/plain": [
       "0                       Oficina / consultorio alquiler\n",
       "1                               Departamentos alquiler\n",
       "2    Suite en Alquiler a 2 Cuadras del Coliseo de Loja\n",
       "3             Casas en Venta de 4 Dormitorios Plan Vip\n",
       "4             en Venta Departamento Duplex Independien\n",
       "5              Cdla. Albatros Departamento en Alquiler\n",
       "6    En alquiler: casa amoblada en cucanama Vilcabamba\n",
       "7    Casa esquinera de venta en las primeras etapas...\n",
       "8    Venta de Casa en Capelo. 3 Plantas en Conjunto...\n",
       "9    Puembo, 5 Hectáreas de Terreno, San Jose de Pu...\n",
       "Name: title, dtype: object"
      ]
     },
     "execution_count": 187,
     "metadata": {},
     "output_type": "execute_result"
    }
   ],
   "source": [
    "data['title'].head(10)"
   ]
  },
  {
   "cell_type": "code",
   "execution_count": 188,
   "metadata": {},
   "outputs": [],
   "source": [
    "import unidecode\n",
    "\n",
    "titles = ['oficina', 'departamento', 'suite', 'casa', 'lote', 'terreno', 'urbanizacion', 'galpon', 'sector']\n",
    "tipo_lugar = []\n",
    "\n",
    "for i in data['title']:\n",
    "    if(titles[0] in unidecode.unidecode(i.lower())):\n",
    "        tipo_lugar.append(titles[0])\n",
    "    elif(titles[1] in unidecode.unidecode(i.lower())):\n",
    "        tipo_lugar.append(titles[1])\n",
    "    elif(titles[2] in unidecode.unidecode(i.lower())):\n",
    "        tipo_lugar.append(titles[2])\n",
    "    elif(titles[3] in unidecode.unidecode(i.lower())):\n",
    "        tipo_lugar.append(titles[3])\n",
    "    elif(titles[4] in unidecode.unidecode(i.lower())):\n",
    "        tipo_lugar.append(titles[4])\n",
    "    elif(titles[5] in unidecode.unidecode(i.lower())):\n",
    "        tipo_lugar.append(titles[5])\n",
    "    elif(titles[6] in unidecode.unidecode(i.lower())):\n",
    "        tipo_lugar.append(titles[6])\n",
    "    elif(titles[7] in unidecode.unidecode(i.lower())):\n",
    "        tipo_lugar.append(titles[7])\n",
    "    elif(titles[8] in unidecode.unidecode(i.lower())):\n",
    "        tipo_lugar.append(titles[8])\n",
    "    else:\n",
    "        tipo_lugar.append('None')"
   ]
  },
  {
   "cell_type": "code",
   "execution_count": 189,
   "metadata": {},
   "outputs": [],
   "source": [
    "data['title'] = tipo_lugar"
   ]
  },
  {
   "cell_type": "code",
   "execution_count": 190,
   "metadata": {},
   "outputs": [],
   "source": [
    "del data['description']"
   ]
  },
  {
   "cell_type": "code",
   "execution_count": 191,
   "metadata": {},
   "outputs": [],
   "source": [
    "del data['property_type']"
   ]
  },
  {
   "cell_type": "markdown",
   "metadata": {},
   "source": [
    "# <font color='blue'>Dealing With Dates</font>"
   ]
  },
  {
   "cell_type": "markdown",
   "metadata": {},
   "source": [
    "### Transform to Normal DateTime"
   ]
  },
  {
   "cell_type": "code",
   "execution_count": 192,
   "metadata": {},
   "outputs": [],
   "source": [
    "data['end_date'] = data['end_date'].apply(lambda x: '2025-08-25' if (x=='9999-12-31') else x)"
   ]
  },
  {
   "cell_type": "markdown",
   "metadata": {},
   "source": [
    "### Days Between Dates"
   ]
  },
  {
   "cell_type": "code",
   "execution_count": 193,
   "metadata": {},
   "outputs": [],
   "source": [
    "delta = abs(pd.to_datetime(data['start_date']) - pd.to_datetime(data['end_date']))"
   ]
  },
  {
   "cell_type": "code",
   "execution_count": 194,
   "metadata": {},
   "outputs": [],
   "source": [
    "data['days_spam'] = delta"
   ]
  },
  {
   "cell_type": "markdown",
   "metadata": {},
   "source": [
    "### String to Days"
   ]
  },
  {
   "cell_type": "code",
   "execution_count": 195,
   "metadata": {},
   "outputs": [],
   "source": [
    "import re\n",
    "data['days_spam'] = data['days_spam'].apply(lambda x: re.sub('\\D', '', str(x))).apply(lambda x: x[:-6]).apply(lambda x: int(x))"
   ]
  },
  {
   "cell_type": "code",
   "execution_count": 196,
   "metadata": {},
   "outputs": [],
   "source": [
    "del data['start_date']\n",
    "del data['end_date']\n",
    "del data['created_on']"
   ]
  },
  {
   "cell_type": "markdown",
   "metadata": {},
   "source": [
    "# <font color='blue'>EDA</font>"
   ]
  },
  {
   "cell_type": "code",
   "execution_count": 197,
   "metadata": {
    "scrolled": true
   },
   "outputs": [
    {
     "data": {
      "text/html": [
       "<div>\n",
       "<style scoped>\n",
       "    .dataframe tbody tr th:only-of-type {\n",
       "        vertical-align: middle;\n",
       "    }\n",
       "\n",
       "    .dataframe tbody tr th {\n",
       "        vertical-align: top;\n",
       "    }\n",
       "\n",
       "    .dataframe thead th {\n",
       "        text-align: right;\n",
       "    }\n",
       "</style>\n",
       "<table border=\"1\" class=\"dataframe\">\n",
       "  <thead>\n",
       "    <tr style=\"text-align: right;\">\n",
       "      <th></th>\n",
       "      <th>lat</th>\n",
       "      <th>lon</th>\n",
       "      <th>l2</th>\n",
       "      <th>l3</th>\n",
       "      <th>l4</th>\n",
       "      <th>bedrooms</th>\n",
       "      <th>bathrooms</th>\n",
       "      <th>surface_total</th>\n",
       "      <th>price</th>\n",
       "      <th>title</th>\n",
       "      <th>operation_type</th>\n",
       "      <th>days_spam</th>\n",
       "    </tr>\n",
       "  </thead>\n",
       "  <tbody>\n",
       "    <tr>\n",
       "      <th>0</th>\n",
       "      <td>-0.190255</td>\n",
       "      <td>-78.481672</td>\n",
       "      <td>Pichincha</td>\n",
       "      <td>Quito</td>\n",
       "      <td>Centro Norte</td>\n",
       "      <td>3.0</td>\n",
       "      <td>3.0</td>\n",
       "      <td>100.0</td>\n",
       "      <td>280.000000</td>\n",
       "      <td>oficina</td>\n",
       "      <td>Alquiler</td>\n",
       "      <td>2109</td>\n",
       "    </tr>\n",
       "    <tr>\n",
       "      <th>1</th>\n",
       "      <td>-0.184508</td>\n",
       "      <td>-78.480689</td>\n",
       "      <td>Pichincha</td>\n",
       "      <td>Quito</td>\n",
       "      <td>Centro Norte</td>\n",
       "      <td>3.0</td>\n",
       "      <td>3.0</td>\n",
       "      <td>69.0</td>\n",
       "      <td>485.000000</td>\n",
       "      <td>departamento</td>\n",
       "      <td>Alquiler</td>\n",
       "      <td>84</td>\n",
       "    </tr>\n",
       "    <tr>\n",
       "      <th>2</th>\n",
       "      <td>-1.360628</td>\n",
       "      <td>-79.186144</td>\n",
       "      <td>Loja</td>\n",
       "      <td>Loja</td>\n",
       "      <td>None</td>\n",
       "      <td>1.0</td>\n",
       "      <td>1.0</td>\n",
       "      <td>50.0</td>\n",
       "      <td>250.000000</td>\n",
       "      <td>suite</td>\n",
       "      <td>Alquiler</td>\n",
       "      <td>39</td>\n",
       "    </tr>\n",
       "    <tr>\n",
       "      <th>3</th>\n",
       "      <td>-4.001000</td>\n",
       "      <td>-79.202003</td>\n",
       "      <td>Loja</td>\n",
       "      <td>Loja</td>\n",
       "      <td>None</td>\n",
       "      <td>3.0</td>\n",
       "      <td>3.0</td>\n",
       "      <td>129.0</td>\n",
       "      <td>87900.000000</td>\n",
       "      <td>casa</td>\n",
       "      <td>Venta</td>\n",
       "      <td>43</td>\n",
       "    </tr>\n",
       "    <tr>\n",
       "      <th>4</th>\n",
       "      <td>-3.998084</td>\n",
       "      <td>-79.203262</td>\n",
       "      <td>Loja</td>\n",
       "      <td>Loja</td>\n",
       "      <td>None</td>\n",
       "      <td>4.0</td>\n",
       "      <td>3.0</td>\n",
       "      <td>219.0</td>\n",
       "      <td>347050.262216</td>\n",
       "      <td>departamento</td>\n",
       "      <td>Venta</td>\n",
       "      <td>43</td>\n",
       "    </tr>\n",
       "  </tbody>\n",
       "</table>\n",
       "</div>"
      ],
      "text/plain": [
       "        lat        lon         l2     l3            l4  bedrooms  bathrooms  \\\n",
       "0 -0.190255 -78.481672  Pichincha  Quito  Centro Norte       3.0        3.0   \n",
       "1 -0.184508 -78.480689  Pichincha  Quito  Centro Norte       3.0        3.0   \n",
       "2 -1.360628 -79.186144       Loja   Loja          None       1.0        1.0   \n",
       "3 -4.001000 -79.202003       Loja   Loja          None       3.0        3.0   \n",
       "4 -3.998084 -79.203262       Loja   Loja          None       4.0        3.0   \n",
       "\n",
       "   surface_total          price         title operation_type  days_spam  \n",
       "0          100.0     280.000000       oficina       Alquiler       2109  \n",
       "1           69.0     485.000000  departamento       Alquiler         84  \n",
       "2           50.0     250.000000         suite       Alquiler         39  \n",
       "3          129.0   87900.000000          casa          Venta         43  \n",
       "4          219.0  347050.262216  departamento          Venta         43  "
      ]
     },
     "execution_count": 197,
     "metadata": {},
     "output_type": "execute_result"
    }
   ],
   "source": [
    "data.head()"
   ]
  },
  {
   "cell_type": "code",
   "execution_count": 198,
   "metadata": {},
   "outputs": [],
   "source": [
    "data['price'] = np.log1p(data['price'])"
   ]
  },
  {
   "cell_type": "code",
   "execution_count": 199,
   "metadata": {},
   "outputs": [
    {
     "data": {
      "text/html": [
       "<style  type=\"text/css\" >\n",
       "    #T_71f440ac_a81f_11ea_8eb8_7085c2f6330frow0_col0 {\n",
       "            background-color:  #b40426;\n",
       "            color:  #f1f1f1;\n",
       "        }    #T_71f440ac_a81f_11ea_8eb8_7085c2f6330frow0_col1 {\n",
       "            background-color:  #e6d7cf;\n",
       "            color:  #000000;\n",
       "        }    #T_71f440ac_a81f_11ea_8eb8_7085c2f6330frow0_col2 {\n",
       "            background-color:  #3b4cc0;\n",
       "            color:  #f1f1f1;\n",
       "        }    #T_71f440ac_a81f_11ea_8eb8_7085c2f6330frow0_col3 {\n",
       "            background-color:  #3b4cc0;\n",
       "            color:  #f1f1f1;\n",
       "        }    #T_71f440ac_a81f_11ea_8eb8_7085c2f6330frow0_col4 {\n",
       "            background-color:  #3e51c5;\n",
       "            color:  #f1f1f1;\n",
       "        }    #T_71f440ac_a81f_11ea_8eb8_7085c2f6330frow0_col5 {\n",
       "            background-color:  #3b4cc0;\n",
       "            color:  #f1f1f1;\n",
       "        }    #T_71f440ac_a81f_11ea_8eb8_7085c2f6330frow0_col6 {\n",
       "            background-color:  #4f69d9;\n",
       "            color:  #000000;\n",
       "        }    #T_71f440ac_a81f_11ea_8eb8_7085c2f6330frow1_col0 {\n",
       "            background-color:  #e7d7ce;\n",
       "            color:  #000000;\n",
       "        }    #T_71f440ac_a81f_11ea_8eb8_7085c2f6330frow1_col1 {\n",
       "            background-color:  #b40426;\n",
       "            color:  #f1f1f1;\n",
       "        }    #T_71f440ac_a81f_11ea_8eb8_7085c2f6330frow1_col2 {\n",
       "            background-color:  #3e51c5;\n",
       "            color:  #f1f1f1;\n",
       "        }    #T_71f440ac_a81f_11ea_8eb8_7085c2f6330frow1_col3 {\n",
       "            background-color:  #3b4cc0;\n",
       "            color:  #f1f1f1;\n",
       "        }    #T_71f440ac_a81f_11ea_8eb8_7085c2f6330frow1_col4 {\n",
       "            background-color:  #3b4cc0;\n",
       "            color:  #f1f1f1;\n",
       "        }    #T_71f440ac_a81f_11ea_8eb8_7085c2f6330frow1_col5 {\n",
       "            background-color:  #485fd1;\n",
       "            color:  #f1f1f1;\n",
       "        }    #T_71f440ac_a81f_11ea_8eb8_7085c2f6330frow1_col6 {\n",
       "            background-color:  #3b4cc0;\n",
       "            color:  #f1f1f1;\n",
       "        }    #T_71f440ac_a81f_11ea_8eb8_7085c2f6330frow2_col0 {\n",
       "            background-color:  #3b4cc0;\n",
       "            color:  #f1f1f1;\n",
       "        }    #T_71f440ac_a81f_11ea_8eb8_7085c2f6330frow2_col1 {\n",
       "            background-color:  #3d50c3;\n",
       "            color:  #f1f1f1;\n",
       "        }    #T_71f440ac_a81f_11ea_8eb8_7085c2f6330frow2_col2 {\n",
       "            background-color:  #b40426;\n",
       "            color:  #f1f1f1;\n",
       "        }    #T_71f440ac_a81f_11ea_8eb8_7085c2f6330frow2_col3 {\n",
       "            background-color:  #d0473d;\n",
       "            color:  #f1f1f1;\n",
       "        }    #T_71f440ac_a81f_11ea_8eb8_7085c2f6330frow2_col4 {\n",
       "            background-color:  #e7d7ce;\n",
       "            color:  #000000;\n",
       "        }    #T_71f440ac_a81f_11ea_8eb8_7085c2f6330frow2_col5 {\n",
       "            background-color:  #bed2f6;\n",
       "            color:  #000000;\n",
       "        }    #T_71f440ac_a81f_11ea_8eb8_7085c2f6330frow2_col6 {\n",
       "            background-color:  #485fd1;\n",
       "            color:  #f1f1f1;\n",
       "        }    #T_71f440ac_a81f_11ea_8eb8_7085c2f6330frow3_col0 {\n",
       "            background-color:  #3c4ec2;\n",
       "            color:  #f1f1f1;\n",
       "        }    #T_71f440ac_a81f_11ea_8eb8_7085c2f6330frow3_col1 {\n",
       "            background-color:  #3b4cc0;\n",
       "            color:  #f1f1f1;\n",
       "        }    #T_71f440ac_a81f_11ea_8eb8_7085c2f6330frow3_col2 {\n",
       "            background-color:  #d0473d;\n",
       "            color:  #f1f1f1;\n",
       "        }    #T_71f440ac_a81f_11ea_8eb8_7085c2f6330frow3_col3 {\n",
       "            background-color:  #b40426;\n",
       "            color:  #f1f1f1;\n",
       "        }    #T_71f440ac_a81f_11ea_8eb8_7085c2f6330frow3_col4 {\n",
       "            background-color:  #edd2c3;\n",
       "            color:  #000000;\n",
       "        }    #T_71f440ac_a81f_11ea_8eb8_7085c2f6330frow3_col5 {\n",
       "            background-color:  #c0d4f5;\n",
       "            color:  #000000;\n",
       "        }    #T_71f440ac_a81f_11ea_8eb8_7085c2f6330frow3_col6 {\n",
       "            background-color:  #4a63d3;\n",
       "            color:  #f1f1f1;\n",
       "        }    #T_71f440ac_a81f_11ea_8eb8_7085c2f6330frow4_col0 {\n",
       "            background-color:  #4961d2;\n",
       "            color:  #f1f1f1;\n",
       "        }    #T_71f440ac_a81f_11ea_8eb8_7085c2f6330frow4_col1 {\n",
       "            background-color:  #445acc;\n",
       "            color:  #f1f1f1;\n",
       "        }    #T_71f440ac_a81f_11ea_8eb8_7085c2f6330frow4_col2 {\n",
       "            background-color:  #ead4c8;\n",
       "            color:  #000000;\n",
       "        }    #T_71f440ac_a81f_11ea_8eb8_7085c2f6330frow4_col3 {\n",
       "            background-color:  #efcebd;\n",
       "            color:  #000000;\n",
       "        }    #T_71f440ac_a81f_11ea_8eb8_7085c2f6330frow4_col4 {\n",
       "            background-color:  #b40426;\n",
       "            color:  #f1f1f1;\n",
       "        }    #T_71f440ac_a81f_11ea_8eb8_7085c2f6330frow4_col5 {\n",
       "            background-color:  #5f7fe8;\n",
       "            color:  #000000;\n",
       "        }    #T_71f440ac_a81f_11ea_8eb8_7085c2f6330frow4_col6 {\n",
       "            background-color:  #506bda;\n",
       "            color:  #000000;\n",
       "        }    #T_71f440ac_a81f_11ea_8eb8_7085c2f6330frow5_col0 {\n",
       "            background-color:  #3d50c3;\n",
       "            color:  #f1f1f1;\n",
       "        }    #T_71f440ac_a81f_11ea_8eb8_7085c2f6330frow5_col1 {\n",
       "            background-color:  #4961d2;\n",
       "            color:  #f1f1f1;\n",
       "        }    #T_71f440ac_a81f_11ea_8eb8_7085c2f6330frow5_col2 {\n",
       "            background-color:  #c0d4f5;\n",
       "            color:  #000000;\n",
       "        }    #T_71f440ac_a81f_11ea_8eb8_7085c2f6330frow5_col3 {\n",
       "            background-color:  #c1d4f4;\n",
       "            color:  #000000;\n",
       "        }    #T_71f440ac_a81f_11ea_8eb8_7085c2f6330frow5_col4 {\n",
       "            background-color:  #5875e1;\n",
       "            color:  #000000;\n",
       "        }    #T_71f440ac_a81f_11ea_8eb8_7085c2f6330frow5_col5 {\n",
       "            background-color:  #b40426;\n",
       "            color:  #f1f1f1;\n",
       "        }    #T_71f440ac_a81f_11ea_8eb8_7085c2f6330frow5_col6 {\n",
       "            background-color:  #506bda;\n",
       "            color:  #000000;\n",
       "        }    #T_71f440ac_a81f_11ea_8eb8_7085c2f6330frow6_col0 {\n",
       "            background-color:  #5572df;\n",
       "            color:  #000000;\n",
       "        }    #T_71f440ac_a81f_11ea_8eb8_7085c2f6330frow6_col1 {\n",
       "            background-color:  #4055c8;\n",
       "            color:  #f1f1f1;\n",
       "        }    #T_71f440ac_a81f_11ea_8eb8_7085c2f6330frow6_col2 {\n",
       "            background-color:  #4e68d8;\n",
       "            color:  #000000;\n",
       "        }    #T_71f440ac_a81f_11ea_8eb8_7085c2f6330frow6_col3 {\n",
       "            background-color:  #506bda;\n",
       "            color:  #000000;\n",
       "        }    #T_71f440ac_a81f_11ea_8eb8_7085c2f6330frow6_col4 {\n",
       "            background-color:  #4b64d5;\n",
       "            color:  #f1f1f1;\n",
       "        }    #T_71f440ac_a81f_11ea_8eb8_7085c2f6330frow6_col5 {\n",
       "            background-color:  #5572df;\n",
       "            color:  #000000;\n",
       "        }    #T_71f440ac_a81f_11ea_8eb8_7085c2f6330frow6_col6 {\n",
       "            background-color:  #b40426;\n",
       "            color:  #f1f1f1;\n",
       "        }</style><table id=\"T_71f440ac_a81f_11ea_8eb8_7085c2f6330f\" ><thead>    <tr>        <th class=\"blank level0\" ></th>        <th class=\"col_heading level0 col0\" >lat</th>        <th class=\"col_heading level0 col1\" >lon</th>        <th class=\"col_heading level0 col2\" >bedrooms</th>        <th class=\"col_heading level0 col3\" >bathrooms</th>        <th class=\"col_heading level0 col4\" >surface_total</th>        <th class=\"col_heading level0 col5\" >price</th>        <th class=\"col_heading level0 col6\" >days_spam</th>    </tr></thead><tbody>\n",
       "                <tr>\n",
       "                        <th id=\"T_71f440ac_a81f_11ea_8eb8_7085c2f6330flevel0_row0\" class=\"row_heading level0 row0\" >lat</th>\n",
       "                        <td id=\"T_71f440ac_a81f_11ea_8eb8_7085c2f6330frow0_col0\" class=\"data row0 col0\" >1</td>\n",
       "                        <td id=\"T_71f440ac_a81f_11ea_8eb8_7085c2f6330frow0_col1\" class=\"data row0 col1\" >0.52</td>\n",
       "                        <td id=\"T_71f440ac_a81f_11ea_8eb8_7085c2f6330frow0_col2\" class=\"data row0 col2\" >-0.048</td>\n",
       "                        <td id=\"T_71f440ac_a81f_11ea_8eb8_7085c2f6330frow0_col3\" class=\"data row0 col3\" >-0.044</td>\n",
       "                        <td id=\"T_71f440ac_a81f_11ea_8eb8_7085c2f6330frow0_col4\" class=\"data row0 col4\" >0.0049</td>\n",
       "                        <td id=\"T_71f440ac_a81f_11ea_8eb8_7085c2f6330frow0_col5\" class=\"data row0 col5\" >-0.038</td>\n",
       "                        <td id=\"T_71f440ac_a81f_11ea_8eb8_7085c2f6330frow0_col6\" class=\"data row0 col6\" >0.045</td>\n",
       "            </tr>\n",
       "            <tr>\n",
       "                        <th id=\"T_71f440ac_a81f_11ea_8eb8_7085c2f6330flevel0_row1\" class=\"row_heading level0 row1\" >lon</th>\n",
       "                        <td id=\"T_71f440ac_a81f_11ea_8eb8_7085c2f6330frow1_col0\" class=\"data row1 col0\" >0.52</td>\n",
       "                        <td id=\"T_71f440ac_a81f_11ea_8eb8_7085c2f6330frow1_col1\" class=\"data row1 col1\" >1</td>\n",
       "                        <td id=\"T_71f440ac_a81f_11ea_8eb8_7085c2f6330frow1_col2\" class=\"data row1 col2\" >-0.035</td>\n",
       "                        <td id=\"T_71f440ac_a81f_11ea_8eb8_7085c2f6330frow1_col3\" class=\"data row1 col3\" >-0.044</td>\n",
       "                        <td id=\"T_71f440ac_a81f_11ea_8eb8_7085c2f6330frow1_col4\" class=\"data row1 col4\" >-0.0079</td>\n",
       "                        <td id=\"T_71f440ac_a81f_11ea_8eb8_7085c2f6330frow1_col5\" class=\"data row1 col5\" >0.0079</td>\n",
       "                        <td id=\"T_71f440ac_a81f_11ea_8eb8_7085c2f6330frow1_col6\" class=\"data row1 col6\" >-0.024</td>\n",
       "            </tr>\n",
       "            <tr>\n",
       "                        <th id=\"T_71f440ac_a81f_11ea_8eb8_7085c2f6330flevel0_row2\" class=\"row_heading level0 row2\" >bedrooms</th>\n",
       "                        <td id=\"T_71f440ac_a81f_11ea_8eb8_7085c2f6330frow2_col0\" class=\"data row2 col0\" >-0.048</td>\n",
       "                        <td id=\"T_71f440ac_a81f_11ea_8eb8_7085c2f6330frow2_col1\" class=\"data row2 col1\" >-0.035</td>\n",
       "                        <td id=\"T_71f440ac_a81f_11ea_8eb8_7085c2f6330frow2_col2\" class=\"data row2 col2\" >1</td>\n",
       "                        <td id=\"T_71f440ac_a81f_11ea_8eb8_7085c2f6330frow2_col3\" class=\"data row2 col3\" >0.91</td>\n",
       "                        <td id=\"T_71f440ac_a81f_11ea_8eb8_7085c2f6330frow2_col4\" class=\"data row2 col4\" >0.54</td>\n",
       "                        <td id=\"T_71f440ac_a81f_11ea_8eb8_7085c2f6330frow2_col5\" class=\"data row2 col5\" >0.37</td>\n",
       "                        <td id=\"T_71f440ac_a81f_11ea_8eb8_7085c2f6330frow2_col6\" class=\"data row2 col6\" >0.021</td>\n",
       "            </tr>\n",
       "            <tr>\n",
       "                        <th id=\"T_71f440ac_a81f_11ea_8eb8_7085c2f6330flevel0_row3\" class=\"row_heading level0 row3\" >bathrooms</th>\n",
       "                        <td id=\"T_71f440ac_a81f_11ea_8eb8_7085c2f6330frow3_col0\" class=\"data row3 col0\" >-0.044</td>\n",
       "                        <td id=\"T_71f440ac_a81f_11ea_8eb8_7085c2f6330frow3_col1\" class=\"data row3 col1\" >-0.044</td>\n",
       "                        <td id=\"T_71f440ac_a81f_11ea_8eb8_7085c2f6330frow3_col2\" class=\"data row3 col2\" >0.91</td>\n",
       "                        <td id=\"T_71f440ac_a81f_11ea_8eb8_7085c2f6330frow3_col3\" class=\"data row3 col3\" >1</td>\n",
       "                        <td id=\"T_71f440ac_a81f_11ea_8eb8_7085c2f6330frow3_col4\" class=\"data row3 col4\" >0.57</td>\n",
       "                        <td id=\"T_71f440ac_a81f_11ea_8eb8_7085c2f6330frow3_col5\" class=\"data row3 col5\" >0.38</td>\n",
       "                        <td id=\"T_71f440ac_a81f_11ea_8eb8_7085c2f6330frow3_col6\" class=\"data row3 col6\" >0.031</td>\n",
       "            </tr>\n",
       "            <tr>\n",
       "                        <th id=\"T_71f440ac_a81f_11ea_8eb8_7085c2f6330flevel0_row4\" class=\"row_heading level0 row4\" >surface_total</th>\n",
       "                        <td id=\"T_71f440ac_a81f_11ea_8eb8_7085c2f6330frow4_col0\" class=\"data row4 col0\" >0.0049</td>\n",
       "                        <td id=\"T_71f440ac_a81f_11ea_8eb8_7085c2f6330frow4_col1\" class=\"data row4 col1\" >-0.0079</td>\n",
       "                        <td id=\"T_71f440ac_a81f_11ea_8eb8_7085c2f6330frow4_col2\" class=\"data row4 col2\" >0.54</td>\n",
       "                        <td id=\"T_71f440ac_a81f_11ea_8eb8_7085c2f6330frow4_col3\" class=\"data row4 col3\" >0.57</td>\n",
       "                        <td id=\"T_71f440ac_a81f_11ea_8eb8_7085c2f6330frow4_col4\" class=\"data row4 col4\" >1</td>\n",
       "                        <td id=\"T_71f440ac_a81f_11ea_8eb8_7085c2f6330frow4_col5\" class=\"data row4 col5\" >0.088</td>\n",
       "                        <td id=\"T_71f440ac_a81f_11ea_8eb8_7085c2f6330frow4_col6\" class=\"data row4 col6\" >0.049</td>\n",
       "            </tr>\n",
       "            <tr>\n",
       "                        <th id=\"T_71f440ac_a81f_11ea_8eb8_7085c2f6330flevel0_row5\" class=\"row_heading level0 row5\" >price</th>\n",
       "                        <td id=\"T_71f440ac_a81f_11ea_8eb8_7085c2f6330frow5_col0\" class=\"data row5 col0\" >-0.038</td>\n",
       "                        <td id=\"T_71f440ac_a81f_11ea_8eb8_7085c2f6330frow5_col1\" class=\"data row5 col1\" >0.0079</td>\n",
       "                        <td id=\"T_71f440ac_a81f_11ea_8eb8_7085c2f6330frow5_col2\" class=\"data row5 col2\" >0.37</td>\n",
       "                        <td id=\"T_71f440ac_a81f_11ea_8eb8_7085c2f6330frow5_col3\" class=\"data row5 col3\" >0.38</td>\n",
       "                        <td id=\"T_71f440ac_a81f_11ea_8eb8_7085c2f6330frow5_col4\" class=\"data row5 col4\" >0.088</td>\n",
       "                        <td id=\"T_71f440ac_a81f_11ea_8eb8_7085c2f6330frow5_col5\" class=\"data row5 col5\" >1</td>\n",
       "                        <td id=\"T_71f440ac_a81f_11ea_8eb8_7085c2f6330frow5_col6\" class=\"data row5 col6\" >0.052</td>\n",
       "            </tr>\n",
       "            <tr>\n",
       "                        <th id=\"T_71f440ac_a81f_11ea_8eb8_7085c2f6330flevel0_row6\" class=\"row_heading level0 row6\" >days_spam</th>\n",
       "                        <td id=\"T_71f440ac_a81f_11ea_8eb8_7085c2f6330frow6_col0\" class=\"data row6 col0\" >0.045</td>\n",
       "                        <td id=\"T_71f440ac_a81f_11ea_8eb8_7085c2f6330frow6_col1\" class=\"data row6 col1\" >-0.024</td>\n",
       "                        <td id=\"T_71f440ac_a81f_11ea_8eb8_7085c2f6330frow6_col2\" class=\"data row6 col2\" >0.021</td>\n",
       "                        <td id=\"T_71f440ac_a81f_11ea_8eb8_7085c2f6330frow6_col3\" class=\"data row6 col3\" >0.031</td>\n",
       "                        <td id=\"T_71f440ac_a81f_11ea_8eb8_7085c2f6330frow6_col4\" class=\"data row6 col4\" >0.049</td>\n",
       "                        <td id=\"T_71f440ac_a81f_11ea_8eb8_7085c2f6330frow6_col5\" class=\"data row6 col5\" >0.052</td>\n",
       "                        <td id=\"T_71f440ac_a81f_11ea_8eb8_7085c2f6330frow6_col6\" class=\"data row6 col6\" >1</td>\n",
       "            </tr>\n",
       "    </tbody></table>"
      ],
      "text/plain": [
       "<pandas.io.formats.style.Styler at 0x1e3b9340988>"
      ]
     },
     "execution_count": 199,
     "metadata": {},
     "output_type": "execute_result"
    }
   ],
   "source": [
    "corr = data.corr()\n",
    "corr.style.background_gradient(cmap='coolwarm').set_precision(2)"
   ]
  },
  {
   "cell_type": "markdown",
   "metadata": {},
   "source": [
    "### Type"
   ]
  },
  {
   "cell_type": "code",
   "execution_count": 200,
   "metadata": {
    "scrolled": true
   },
   "outputs": [
    {
     "data": {
      "image/png": "[encoded data removed]",
      "text/plain": [
       "<Figure size 720x360 with 1 Axes>"
      ]
     },
     "metadata": {},
     "output_type": "display_data"
    }
   ],
   "source": [
    "sns.catplot(data = data, x='title', y='price', kind='boxen', height=5, aspect=2);"
   ]
  },
  {
   "cell_type": "markdown",
   "metadata": {},
   "source": [
    "### Operation Type"
   ]
  },
  {
   "cell_type": "code",
   "execution_count": 201,
   "metadata": {},
   "outputs": [
    {
     "data": {
      "image/png": "[encoded data removed]",
      "text/plain": [
       "<Figure size 720x360 with 1 Axes>"
      ]
     },
     "metadata": {},
     "output_type": "display_data"
    }
   ],
   "source": [
    "sns.catplot(data = data, x='operation_type', y='price', kind='boxen', height=5, aspect=2);"
   ]
  },
  {
   "cell_type": "markdown",
   "metadata": {},
   "source": [
    "# <font color='blue'>Skew</font> "
   ]
  },
  {
   "cell_type": "code",
   "execution_count": 202,
   "metadata": {},
   "outputs": [
    {
     "data": {
      "text/plain": [
       "bedrooms          8.671991\n",
       "bathrooms         9.051996\n",
       "surface_total    41.383782\n",
       "days_spam         1.695698\n",
       "dtype: float64"
      ]
     },
     "execution_count": 202,
     "metadata": {},
     "output_type": "execute_result"
    }
   ],
   "source": [
    "data_skew = data[['bedrooms', 'bathrooms', 'surface_total', 'days_spam']]\n",
    "data_skew.apply(lambda x: skew(x))"
   ]
  },
  {
   "cell_type": "code",
   "execution_count": 203,
   "metadata": {},
   "outputs": [
    {
     "data": {
      "text/plain": [
       "bedrooms         0.945626\n",
       "bathrooms        0.453725\n",
       "surface_total    0.079393\n",
       "days_spam        0.425377\n",
       "dtype: float64"
      ]
     },
     "execution_count": 203,
     "metadata": {},
     "output_type": "execute_result"
    }
   ],
   "source": [
    "trans = data_skew\n",
    "trans = np.log1p(trans)\n",
    "\n",
    "trans.apply(lambda x: skew(x))"
   ]
  },
  {
   "cell_type": "code",
   "execution_count": 205,
   "metadata": {},
   "outputs": [],
   "source": [
    "data[['bedrooms', 'bathrooms', 'surface_total', 'days_spam']] = trans"
   ]
  },
  {
   "cell_type": "code",
   "execution_count": 208,
   "metadata": {},
   "outputs": [
    {
     "data": {
      "text/html": [
       "<style  type=\"text/css\" >\n",
       "    #T_abffb31a_a81f_11ea_982a_7085c2f6330frow0_col0 {\n",
       "            background-color:  #b40426;\n",
       "            color:  #f1f1f1;\n",
       "        }    #T_abffb31a_a81f_11ea_982a_7085c2f6330frow0_col1 {\n",
       "            background-color:  #e6d7cf;\n",
       "            color:  #000000;\n",
       "        }    #T_abffb31a_a81f_11ea_982a_7085c2f6330frow0_col2 {\n",
       "            background-color:  #3b4cc0;\n",
       "            color:  #f1f1f1;\n",
       "        }    #T_abffb31a_a81f_11ea_982a_7085c2f6330frow0_col3 {\n",
       "            background-color:  #3b4cc0;\n",
       "            color:  #f1f1f1;\n",
       "        }    #T_abffb31a_a81f_11ea_982a_7085c2f6330frow0_col4 {\n",
       "            background-color:  #3f53c6;\n",
       "            color:  #f1f1f1;\n",
       "        }    #T_abffb31a_a81f_11ea_982a_7085c2f6330frow0_col5 {\n",
       "            background-color:  #3b4cc0;\n",
       "            color:  #f1f1f1;\n",
       "        }    #T_abffb31a_a81f_11ea_982a_7085c2f6330frow0_col6 {\n",
       "            background-color:  #506bda;\n",
       "            color:  #000000;\n",
       "        }    #T_abffb31a_a81f_11ea_982a_7085c2f6330frow1_col0 {\n",
       "            background-color:  #ead5c9;\n",
       "            color:  #000000;\n",
       "        }    #T_abffb31a_a81f_11ea_982a_7085c2f6330frow1_col1 {\n",
       "            background-color:  #b40426;\n",
       "            color:  #f1f1f1;\n",
       "        }    #T_abffb31a_a81f_11ea_982a_7085c2f6330frow1_col2 {\n",
       "            background-color:  #4358cb;\n",
       "            color:  #f1f1f1;\n",
       "        }    #T_abffb31a_a81f_11ea_982a_7085c2f6330frow1_col3 {\n",
       "            background-color:  #3f53c6;\n",
       "            color:  #f1f1f1;\n",
       "        }    #T_abffb31a_a81f_11ea_982a_7085c2f6330frow1_col4 {\n",
       "            background-color:  #3b4cc0;\n",
       "            color:  #f1f1f1;\n",
       "        }    #T_abffb31a_a81f_11ea_982a_7085c2f6330frow1_col5 {\n",
       "            background-color:  #485fd1;\n",
       "            color:  #f1f1f1;\n",
       "        }    #T_abffb31a_a81f_11ea_982a_7085c2f6330frow1_col6 {\n",
       "            background-color:  #3b4cc0;\n",
       "            color:  #f1f1f1;\n",
       "        }    #T_abffb31a_a81f_11ea_982a_7085c2f6330frow2_col0 {\n",
       "            background-color:  #3b4cc0;\n",
       "            color:  #f1f1f1;\n",
       "        }    #T_abffb31a_a81f_11ea_982a_7085c2f6330frow2_col1 {\n",
       "            background-color:  #3b4cc0;\n",
       "            color:  #f1f1f1;\n",
       "        }    #T_abffb31a_a81f_11ea_982a_7085c2f6330frow2_col2 {\n",
       "            background-color:  #b40426;\n",
       "            color:  #f1f1f1;\n",
       "        }    #T_abffb31a_a81f_11ea_982a_7085c2f6330frow2_col3 {\n",
       "            background-color:  #e36c55;\n",
       "            color:  #000000;\n",
       "        }    #T_abffb31a_a81f_11ea_982a_7085c2f6330frow2_col4 {\n",
       "            background-color:  #c1d4f4;\n",
       "            color:  #000000;\n",
       "        }    #T_abffb31a_a81f_11ea_982a_7085c2f6330frow2_col5 {\n",
       "            background-color:  #d5dbe5;\n",
       "            color:  #000000;\n",
       "        }    #T_abffb31a_a81f_11ea_982a_7085c2f6330frow2_col6 {\n",
       "            background-color:  #5470de;\n",
       "            color:  #000000;\n",
       "        }    #T_abffb31a_a81f_11ea_982a_7085c2f6330frow3_col0 {\n",
       "            background-color:  #3d50c3;\n",
       "            color:  #f1f1f1;\n",
       "        }    #T_abffb31a_a81f_11ea_982a_7085c2f6330frow3_col1 {\n",
       "            background-color:  #3b4cc0;\n",
       "            color:  #f1f1f1;\n",
       "        }    #T_abffb31a_a81f_11ea_982a_7085c2f6330frow3_col2 {\n",
       "            background-color:  #e36b54;\n",
       "            color:  #000000;\n",
       "        }    #T_abffb31a_a81f_11ea_982a_7085c2f6330frow3_col3 {\n",
       "            background-color:  #b40426;\n",
       "            color:  #f1f1f1;\n",
       "        }    #T_abffb31a_a81f_11ea_982a_7085c2f6330frow3_col4 {\n",
       "            background-color:  #92b4fe;\n",
       "            color:  #000000;\n",
       "        }    #T_abffb31a_a81f_11ea_982a_7085c2f6330frow3_col5 {\n",
       "            background-color:  #d7dce3;\n",
       "            color:  #000000;\n",
       "        }    #T_abffb31a_a81f_11ea_982a_7085c2f6330frow3_col6 {\n",
       "            background-color:  #536edd;\n",
       "            color:  #000000;\n",
       "        }    #T_abffb31a_a81f_11ea_982a_7085c2f6330frow4_col0 {\n",
       "            background-color:  #5673e0;\n",
       "            color:  #000000;\n",
       "        }    #T_abffb31a_a81f_11ea_982a_7085c2f6330frow4_col1 {\n",
       "            background-color:  #4961d2;\n",
       "            color:  #f1f1f1;\n",
       "        }    #T_abffb31a_a81f_11ea_982a_7085c2f6330frow4_col2 {\n",
       "            background-color:  #cedaeb;\n",
       "            color:  #000000;\n",
       "        }    #T_abffb31a_a81f_11ea_982a_7085c2f6330frow4_col3 {\n",
       "            background-color:  #a2c1ff;\n",
       "            color:  #000000;\n",
       "        }    #T_abffb31a_a81f_11ea_982a_7085c2f6330frow4_col4 {\n",
       "            background-color:  #b40426;\n",
       "            color:  #f1f1f1;\n",
       "        }    #T_abffb31a_a81f_11ea_982a_7085c2f6330frow4_col5 {\n",
       "            background-color:  #7295f4;\n",
       "            color:  #000000;\n",
       "        }    #T_abffb31a_a81f_11ea_982a_7085c2f6330frow4_col6 {\n",
       "            background-color:  #84a7fc;\n",
       "            color:  #000000;\n",
       "        }    #T_abffb31a_a81f_11ea_982a_7085c2f6330frow5_col0 {\n",
       "            background-color:  #455cce;\n",
       "            color:  #f1f1f1;\n",
       "        }    #T_abffb31a_a81f_11ea_982a_7085c2f6330frow5_col1 {\n",
       "            background-color:  #4a63d3;\n",
       "            color:  #f1f1f1;\n",
       "        }    #T_abffb31a_a81f_11ea_982a_7085c2f6330frow5_col2 {\n",
       "            background-color:  #dadce0;\n",
       "            color:  #000000;\n",
       "        }    #T_abffb31a_a81f_11ea_982a_7085c2f6330frow5_col3 {\n",
       "            background-color:  #dadce0;\n",
       "            color:  #000000;\n",
       "        }    #T_abffb31a_a81f_11ea_982a_7085c2f6330frow5_col4 {\n",
       "            background-color:  #6687ed;\n",
       "            color:  #000000;\n",
       "        }    #T_abffb31a_a81f_11ea_982a_7085c2f6330frow5_col5 {\n",
       "            background-color:  #b40426;\n",
       "            color:  #f1f1f1;\n",
       "        }    #T_abffb31a_a81f_11ea_982a_7085c2f6330frow5_col6 {\n",
       "            background-color:  #6384eb;\n",
       "            color:  #000000;\n",
       "        }    #T_abffb31a_a81f_11ea_982a_7085c2f6330frow6_col0 {\n",
       "            background-color:  #6384eb;\n",
       "            color:  #000000;\n",
       "        }    #T_abffb31a_a81f_11ea_982a_7085c2f6330frow6_col1 {\n",
       "            background-color:  #445acc;\n",
       "            color:  #f1f1f1;\n",
       "        }    #T_abffb31a_a81f_11ea_982a_7085c2f6330frow6_col2 {\n",
       "            background-color:  #6687ed;\n",
       "            color:  #000000;\n",
       "        }    #T_abffb31a_a81f_11ea_982a_7085c2f6330frow6_col3 {\n",
       "            background-color:  #6282ea;\n",
       "            color:  #000000;\n",
       "        }    #T_abffb31a_a81f_11ea_982a_7085c2f6330frow6_col4 {\n",
       "            background-color:  #80a3fa;\n",
       "            color:  #000000;\n",
       "        }    #T_abffb31a_a81f_11ea_982a_7085c2f6330frow6_col5 {\n",
       "            background-color:  #6b8df0;\n",
       "            color:  #000000;\n",
       "        }    #T_abffb31a_a81f_11ea_982a_7085c2f6330frow6_col6 {\n",
       "            background-color:  #b40426;\n",
       "            color:  #f1f1f1;\n",
       "        }</style><table id=\"T_abffb31a_a81f_11ea_982a_7085c2f6330f\" ><thead>    <tr>        <th class=\"blank level0\" ></th>        <th class=\"col_heading level0 col0\" >lat</th>        <th class=\"col_heading level0 col1\" >lon</th>        <th class=\"col_heading level0 col2\" >bedrooms</th>        <th class=\"col_heading level0 col3\" >bathrooms</th>        <th class=\"col_heading level0 col4\" >surface_total</th>        <th class=\"col_heading level0 col5\" >price</th>        <th class=\"col_heading level0 col6\" >days_spam</th>    </tr></thead><tbody>\n",
       "                <tr>\n",
       "                        <th id=\"T_abffb31a_a81f_11ea_982a_7085c2f6330flevel0_row0\" class=\"row_heading level0 row0\" >lat</th>\n",
       "                        <td id=\"T_abffb31a_a81f_11ea_982a_7085c2f6330frow0_col0\" class=\"data row0 col0\" >1</td>\n",
       "                        <td id=\"T_abffb31a_a81f_11ea_982a_7085c2f6330frow0_col1\" class=\"data row0 col1\" >0.52</td>\n",
       "                        <td id=\"T_abffb31a_a81f_11ea_982a_7085c2f6330frow0_col2\" class=\"data row0 col2\" >-0.076</td>\n",
       "                        <td id=\"T_abffb31a_a81f_11ea_982a_7085c2f6330frow0_col3\" class=\"data row0 col3\" >-0.066</td>\n",
       "                        <td id=\"T_abffb31a_a81f_11ea_982a_7085c2f6330frow0_col4\" class=\"data row0 col4\" >0.023</td>\n",
       "                        <td id=\"T_abffb31a_a81f_11ea_982a_7085c2f6330frow0_col5\" class=\"data row0 col5\" >-0.038</td>\n",
       "                        <td id=\"T_abffb31a_a81f_11ea_982a_7085c2f6330frow0_col6\" class=\"data row0 col6\" >0.063</td>\n",
       "            </tr>\n",
       "            <tr>\n",
       "                        <th id=\"T_abffb31a_a81f_11ea_982a_7085c2f6330flevel0_row1\" class=\"row_heading level0 row1\" >lon</th>\n",
       "                        <td id=\"T_abffb31a_a81f_11ea_982a_7085c2f6330frow1_col0\" class=\"data row1 col0\" >0.52</td>\n",
       "                        <td id=\"T_abffb31a_a81f_11ea_982a_7085c2f6330frow1_col1\" class=\"data row1 col1\" >1</td>\n",
       "                        <td id=\"T_abffb31a_a81f_11ea_982a_7085c2f6330frow1_col2\" class=\"data row1 col2\" >-0.043</td>\n",
       "                        <td id=\"T_abffb31a_a81f_11ea_982a_7085c2f6330frow1_col3\" class=\"data row1 col3\" >-0.046</td>\n",
       "                        <td id=\"T_abffb31a_a81f_11ea_982a_7085c2f6330frow1_col4\" class=\"data row1 col4\" >0.0047</td>\n",
       "                        <td id=\"T_abffb31a_a81f_11ea_982a_7085c2f6330frow1_col5\" class=\"data row1 col5\" >0.0079</td>\n",
       "                        <td id=\"T_abffb31a_a81f_11ea_982a_7085c2f6330frow1_col6\" class=\"data row1 col6\" >-0.011</td>\n",
       "            </tr>\n",
       "            <tr>\n",
       "                        <th id=\"T_abffb31a_a81f_11ea_982a_7085c2f6330flevel0_row2\" class=\"row_heading level0 row2\" >bedrooms</th>\n",
       "                        <td id=\"T_abffb31a_a81f_11ea_982a_7085c2f6330frow2_col0\" class=\"data row2 col0\" >-0.076</td>\n",
       "                        <td id=\"T_abffb31a_a81f_11ea_982a_7085c2f6330frow2_col1\" class=\"data row2 col1\" >-0.043</td>\n",
       "                        <td id=\"T_abffb31a_a81f_11ea_982a_7085c2f6330frow2_col2\" class=\"data row2 col2\" >1</td>\n",
       "                        <td id=\"T_abffb31a_a81f_11ea_982a_7085c2f6330frow2_col3\" class=\"data row2 col3\" >0.84</td>\n",
       "                        <td id=\"T_abffb31a_a81f_11ea_982a_7085c2f6330frow2_col4\" class=\"data row2 col4\" >0.41</td>\n",
       "                        <td id=\"T_abffb31a_a81f_11ea_982a_7085c2f6330frow2_col5\" class=\"data row2 col5\" >0.45</td>\n",
       "                        <td id=\"T_abffb31a_a81f_11ea_982a_7085c2f6330frow2_col6\" class=\"data row2 col6\" >0.074</td>\n",
       "            </tr>\n",
       "            <tr>\n",
       "                        <th id=\"T_abffb31a_a81f_11ea_982a_7085c2f6330flevel0_row3\" class=\"row_heading level0 row3\" >bathrooms</th>\n",
       "                        <td id=\"T_abffb31a_a81f_11ea_982a_7085c2f6330frow3_col0\" class=\"data row3 col0\" >-0.066</td>\n",
       "                        <td id=\"T_abffb31a_a81f_11ea_982a_7085c2f6330frow3_col1\" class=\"data row3 col1\" >-0.046</td>\n",
       "                        <td id=\"T_abffb31a_a81f_11ea_982a_7085c2f6330frow3_col2\" class=\"data row3 col2\" >0.84</td>\n",
       "                        <td id=\"T_abffb31a_a81f_11ea_982a_7085c2f6330frow3_col3\" class=\"data row3 col3\" >1</td>\n",
       "                        <td id=\"T_abffb31a_a81f_11ea_982a_7085c2f6330frow3_col4\" class=\"data row3 col4\" >0.27</td>\n",
       "                        <td id=\"T_abffb31a_a81f_11ea_982a_7085c2f6330frow3_col5\" class=\"data row3 col5\" >0.46</td>\n",
       "                        <td id=\"T_abffb31a_a81f_11ea_982a_7085c2f6330frow3_col6\" class=\"data row3 col6\" >0.071</td>\n",
       "            </tr>\n",
       "            <tr>\n",
       "                        <th id=\"T_abffb31a_a81f_11ea_982a_7085c2f6330flevel0_row4\" class=\"row_heading level0 row4\" >surface_total</th>\n",
       "                        <td id=\"T_abffb31a_a81f_11ea_982a_7085c2f6330frow4_col0\" class=\"data row4 col0\" >0.023</td>\n",
       "                        <td id=\"T_abffb31a_a81f_11ea_982a_7085c2f6330frow4_col1\" class=\"data row4 col1\" >0.0047</td>\n",
       "                        <td id=\"T_abffb31a_a81f_11ea_982a_7085c2f6330frow4_col2\" class=\"data row4 col2\" >0.41</td>\n",
       "                        <td id=\"T_abffb31a_a81f_11ea_982a_7085c2f6330frow4_col3\" class=\"data row4 col3\" >0.27</td>\n",
       "                        <td id=\"T_abffb31a_a81f_11ea_982a_7085c2f6330frow4_col4\" class=\"data row4 col4\" >1</td>\n",
       "                        <td id=\"T_abffb31a_a81f_11ea_982a_7085c2f6330frow4_col5\" class=\"data row4 col5\" >0.14</td>\n",
       "                        <td id=\"T_abffb31a_a81f_11ea_982a_7085c2f6330frow4_col6\" class=\"data row4 col6\" >0.21</td>\n",
       "            </tr>\n",
       "            <tr>\n",
       "                        <th id=\"T_abffb31a_a81f_11ea_982a_7085c2f6330flevel0_row5\" class=\"row_heading level0 row5\" >price</th>\n",
       "                        <td id=\"T_abffb31a_a81f_11ea_982a_7085c2f6330frow5_col0\" class=\"data row5 col0\" >-0.038</td>\n",
       "                        <td id=\"T_abffb31a_a81f_11ea_982a_7085c2f6330frow5_col1\" class=\"data row5 col1\" >0.0079</td>\n",
       "                        <td id=\"T_abffb31a_a81f_11ea_982a_7085c2f6330frow5_col2\" class=\"data row5 col2\" >0.45</td>\n",
       "                        <td id=\"T_abffb31a_a81f_11ea_982a_7085c2f6330frow5_col3\" class=\"data row5 col3\" >0.46</td>\n",
       "                        <td id=\"T_abffb31a_a81f_11ea_982a_7085c2f6330frow5_col4\" class=\"data row5 col4\" >0.14</td>\n",
       "                        <td id=\"T_abffb31a_a81f_11ea_982a_7085c2f6330frow5_col5\" class=\"data row5 col5\" >1</td>\n",
       "                        <td id=\"T_abffb31a_a81f_11ea_982a_7085c2f6330frow5_col6\" class=\"data row5 col6\" >0.12</td>\n",
       "            </tr>\n",
       "            <tr>\n",
       "                        <th id=\"T_abffb31a_a81f_11ea_982a_7085c2f6330flevel0_row6\" class=\"row_heading level0 row6\" >days_spam</th>\n",
       "                        <td id=\"T_abffb31a_a81f_11ea_982a_7085c2f6330frow6_col0\" class=\"data row6 col0\" >0.063</td>\n",
       "                        <td id=\"T_abffb31a_a81f_11ea_982a_7085c2f6330frow6_col1\" class=\"data row6 col1\" >-0.011</td>\n",
       "                        <td id=\"T_abffb31a_a81f_11ea_982a_7085c2f6330frow6_col2\" class=\"data row6 col2\" >0.074</td>\n",
       "                        <td id=\"T_abffb31a_a81f_11ea_982a_7085c2f6330frow6_col3\" class=\"data row6 col3\" >0.071</td>\n",
       "                        <td id=\"T_abffb31a_a81f_11ea_982a_7085c2f6330frow6_col4\" class=\"data row6 col4\" >0.21</td>\n",
       "                        <td id=\"T_abffb31a_a81f_11ea_982a_7085c2f6330frow6_col5\" class=\"data row6 col5\" >0.12</td>\n",
       "                        <td id=\"T_abffb31a_a81f_11ea_982a_7085c2f6330frow6_col6\" class=\"data row6 col6\" >1</td>\n",
       "            </tr>\n",
       "    </tbody></table>"
      ],
      "text/plain": [
       "<pandas.io.formats.style.Styler at 0x1e3b914b748>"
      ]
     },
     "execution_count": 208,
     "metadata": {},
     "output_type": "execute_result"
    }
   ],
   "source": [
    "corr = data.corr()\n",
    "corr.style.background_gradient(cmap='coolwarm').set_precision(2)"
   ]
  },
  {
   "cell_type": "markdown",
   "metadata": {},
   "source": [
    "# <font color='blue'>Model</font> "
   ]
  },
  {
   "cell_type": "code",
   "execution_count": 252,
   "metadata": {},
   "outputs": [],
   "source": [
    "data_dummie = pd.get_dummies(data.drop(['lat', 'lon'], axis=1))"
   ]
  },
  {
   "cell_type": "code",
   "execution_count": 253,
   "metadata": {},
   "outputs": [],
   "source": [
    "x = data_dummie.drop('price', axis=1).values\n",
    "y = data['price'].values"
   ]
  },
  {
   "cell_type": "code",
   "execution_count": 254,
   "metadata": {},
   "outputs": [],
   "source": [
    "rb = RobustScaler()\n",
    "x = rb.fit_transform(x)"
   ]
  },
  {
   "cell_type": "code",
   "execution_count": 255,
   "metadata": {},
   "outputs": [],
   "source": [
    "x_train, x_test, y_train, y_test = train_test_split(x, y, test_size=0.2, random_state=0)"
   ]
  },
  {
   "cell_type": "code",
   "execution_count": 256,
   "metadata": {},
   "outputs": [],
   "source": [
    "lasso = LassoCV(alphas=[1, 0.5, 0.1, 0.05, 0.01, 0.005, 0.001]).fit(x_train, y_train)\n",
    "elastic = ElasticNetCV(alphas=[1, 0.5, 0.1, 0.05, 0.01, 0.005, 0.001]).fit(x_train, y_train)"
   ]
  },
  {
   "cell_type": "code",
   "execution_count": 257,
   "metadata": {},
   "outputs": [],
   "source": [
    "lasso_preds = np.expm1(lasso.predict(x_test))\n",
    "elastic_preds = np.expm1(elastic.predict(x_test))"
   ]
  },
  {
   "cell_type": "code",
   "execution_count": 261,
   "metadata": {
    "scrolled": true
   },
   "outputs": [
    {
     "data": {
      "text/plain": [
       "0.28151986339399904"
      ]
     },
     "execution_count": 261,
     "metadata": {},
     "output_type": "execute_result"
    }
   ],
   "source": [
    "r2_score(np.expm1(y_test), lasso_preds)"
   ]
  }
 ],
 "metadata": {
  "kernelspec": {
   "display_name": "Python 3",
   "language": "python",
   "name": "python3"
  },
  "language_info": {
   "codemirror_mode": {
    "name": "ipython",
    "version": 3
   },
   "file_extension": ".py",
   "mimetype": "text/x-python",
   "name": "python",
   "nbconvert_exporter": "python",
   "pygments_lexer": "ipython3",
   "version": "3.7.4"
  }
 },
 "nbformat": 4,
 "nbformat_minor": 2
}
